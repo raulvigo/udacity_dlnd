{
 "cells": [
  {
   "cell_type": "markdown",
   "metadata": {
    "collapsed": true
   },
   "source": [
    "# Image Classification\n",
    "In this project, you'll classify images from the [CIFAR-10 dataset](https://www.cs.toronto.edu/~kriz/cifar.html).  The dataset consists of airplanes, dogs, cats, and other objects. You'll preprocess the images, then train a convolutional neural network on all the samples. The images need to be normalized and the labels need to be one-hot encoded.  You'll get to apply what you learned and build a convolutional, max pooling, dropout, and fully connected layers.  At the end, you'll get to see your neural network's predictions on the sample images.\n",
    "## Get the Data\n",
    "Run the following cell to download the [CIFAR-10 dataset for python](https://www.cs.toronto.edu/~kriz/cifar-10-python.tar.gz)."
   ]
  },
  {
   "cell_type": "code",
   "execution_count": 1,
   "metadata": {
    "collapsed": false
   },
   "outputs": [
    {
     "name": "stdout",
     "output_type": "stream",
     "text": [
      "All files found!\n"
     ]
    }
   ],
   "source": [
    "\"\"\"\n",
    "DON'T MODIFY ANYTHING IN THIS CELL THAT IS BELOW THIS LINE\n",
    "\"\"\"\n",
    "from urllib.request import urlretrieve\n",
    "from os.path import isfile, isdir\n",
    "from tqdm import tqdm\n",
    "import problem_unittests as tests\n",
    "import tarfile\n",
    "\n",
    "cifar10_dataset_folder_path = 'cifar-10-batches-py'\n",
    "\n",
    "class DLProgress(tqdm):\n",
    "    last_block = 0\n",
    "\n",
    "    def hook(self, block_num=1, block_size=1, total_size=None):\n",
    "        self.total = total_size\n",
    "        self.update((block_num - self.last_block) * block_size)\n",
    "        self.last_block = block_num\n",
    "\n",
    "if not isfile('cifar-10-python.tar.gz'):\n",
    "    with DLProgress(unit='B', unit_scale=True, miniters=1, desc='CIFAR-10 Dataset') as pbar:\n",
    "        urlretrieve(\n",
    "            'https://www.cs.toronto.edu/~kriz/cifar-10-python.tar.gz',\n",
    "            'cifar-10-python.tar.gz',\n",
    "            pbar.hook)\n",
    "\n",
    "if not isdir(cifar10_dataset_folder_path):\n",
    "    with tarfile.open('cifar-10-python.tar.gz') as tar:\n",
    "        tar.extractall()\n",
    "        tar.close()\n",
    "\n",
    "\n",
    "tests.test_folder_path(cifar10_dataset_folder_path)"
   ]
  },
  {
   "cell_type": "markdown",
   "metadata": {},
   "source": [
    "## Explore the Data\n",
    "The dataset is broken into batches to prevent your machine from running out of memory.  The CIFAR-10 dataset consists of 5 batches, named `data_batch_1`, `data_batch_2`, etc.. Each batch contains the labels and images that are one of the following:\n",
    "* airplane\n",
    "* automobile\n",
    "* bird\n",
    "* cat\n",
    "* deer\n",
    "* dog\n",
    "* frog\n",
    "* horse\n",
    "* ship\n",
    "* truck\n",
    "\n",
    "Understanding a dataset is part of making predictions on the data.  Play around with the code cell below by changing the `batch_id` and `sample_id`. The `batch_id` is the id for a batch (1-5). The `sample_id` is the id for a image and label pair in the batch.\n",
    "\n",
    "Ask yourself \"What are all possible labels?\", \"What is the range of values for the image data?\", \"Are the labels in order or random?\".  Answers to questions like these will help you preprocess the data and end up with better predictions."
   ]
  },
  {
   "cell_type": "code",
   "execution_count": 2,
   "metadata": {
    "collapsed": false
   },
   "outputs": [
    {
     "name": "stdout",
     "output_type": "stream",
     "text": [
      "\n",
      "Stats of batch 1:\n",
      "Samples: 10000\n",
      "Label Counts: {0: 1005, 1: 974, 2: 1032, 3: 1016, 4: 999, 5: 937, 6: 1030, 7: 1001, 8: 1025, 9: 981}\n",
      "First 20 Labels: [6, 9, 9, 4, 1, 1, 2, 7, 8, 3, 4, 7, 7, 2, 9, 9, 9, 3, 2, 6]\n",
      "\n",
      "Example of Image 15:\n",
      "Image - Min Value: 5 Max Value: 255\n",
      "Image - Shape: (32, 32, 3)\n",
      "Label - Label Id: 9 Name: truck\n"
     ]
    },
    {
     "data": {
      "image/png": "[encoded data removed]",
      "text/plain": [
       "<matplotlib.figure.Figure at 0x1136d3dd8>"
      ]
     },
     "metadata": {
      "image/png": {
       "height": 250,
       "width": 253
      }
     },
     "output_type": "display_data"
    }
   ],
   "source": [
    "%matplotlib inline\n",
    "%config InlineBackend.figure_format = 'retina'\n",
    "\n",
    "import helper\n",
    "import numpy as np\n",
    "\n",
    "# Explore the dataset\n",
    "batch_id = 1\n",
    "sample_id = 15\n",
    "helper.display_stats(cifar10_dataset_folder_path, batch_id, sample_id)"
   ]
  },
  {
   "cell_type": "markdown",
   "metadata": {},
   "source": [
    "## Implement Preprocess Functions\n",
    "### Normalize\n",
    "In the cell below, implement the `normalize` function to take in image data, `x`, and return it as a normalized Numpy array. The values should be in the range of 0 to 1, inclusive.  The return object should be the same shape as `x`."
   ]
  },
  {
   "cell_type": "code",
   "execution_count": 3,
   "metadata": {
    "collapsed": false
   },
   "outputs": [
    {
     "name": "stdout",
     "output_type": "stream",
     "text": [
      "Tests Passed\n"
     ]
    }
   ],
   "source": [
    "def normalize(x):\n",
    "    \"\"\"\n",
    "    Normalize a list of sample image data in the range of 0 to 1\n",
    "    : x: List of image data.  The image shape is (32, 32, 3)\n",
    "    : return: Numpy array of normalize data\n",
    "    \"\"\"\n",
    "    x_normalized = np.array(x/255)\n",
    "    return x_normalized\n",
    "\n",
    "\n",
    "\"\"\"\n",
    "DON'T MODIFY ANYTHING IN THIS CELL THAT IS BELOW THIS LINE\n",
    "\"\"\"\n",
    "tests.test_normalize(normalize)"
   ]
  },
  {
   "cell_type": "markdown",
   "metadata": {},
   "source": [
    "### One-hot encode\n",
    "Just like the previous code cell, you'll be implementing a function for preprocessing.  This time, you'll implement the `one_hot_encode` function. The input, `x`, are a list of labels.  Implement the function to return the list of labels as One-Hot encoded Numpy array.  The possible values for labels are 0 to 9. The one-hot encoding function should return the same encoding for each value between each call to `one_hot_encode`.  Make sure to save the map of encodings outside the function.\n",
    "\n",
    "Hint: Don't reinvent the wheel."
   ]
  },
  {
   "cell_type": "code",
   "execution_count": 4,
   "metadata": {
    "collapsed": false
   },
   "outputs": [
    {
     "name": "stdout",
     "output_type": "stream",
     "text": [
      "Tests Passed\n"
     ]
    }
   ],
   "source": [
    "def one_hot_encode(x):\n",
    "    \"\"\"\n",
    "    One hot encode a list of sample labels. Return a one-hot encoded vector for each label.\n",
    "    : x: List of sample Labels\n",
    "    : return: Numpy array of one-hot encoded labels\n",
    "    \"\"\"\n",
    "    x_onehot = np.zeros((len(x),10))\n",
    "    for indice in range(len(x)):\n",
    "        label = x[indice]\n",
    "        x_onehot[indice][label] = 1\n",
    "    return x_onehot\n",
    "\n",
    "\"\"\"\n",
    "DON'T MODIFY ANYTHING IN THIS CELL THAT IS BELOW THIS LINE\n",
    "\"\"\"\n",
    "tests.test_one_hot_encode(one_hot_encode)"
   ]
  },
  {
   "cell_type": "markdown",
   "metadata": {},
   "source": [
    "### Randomize Data\n",
    "As you saw from exploring the data above, the order of the samples are randomized.  It doesn't hurt to randomize it again, but you don't need to for this dataset."
   ]
  },
  {
   "cell_type": "markdown",
   "metadata": {},
   "source": [
    "## Preprocess all the data and save it\n",
    "Running the code cell below will preprocess all the CIFAR-10 data and save it to file. The code below also uses 10% of the training data for validation."
   ]
  },
  {
   "cell_type": "code",
   "execution_count": 5,
   "metadata": {
    "collapsed": false
   },
   "outputs": [],
   "source": [
    "\"\"\"\n",
    "DON'T MODIFY ANYTHING IN THIS CELL\n",
    "\"\"\"\n",
    "# Preprocess Training, Validation, and Testing Data\n",
    "helper.preprocess_and_save_data(cifar10_dataset_folder_path, normalize, one_hot_encode)"
   ]
  },
  {
   "cell_type": "markdown",
   "metadata": {},
   "source": [
    "# Check Point\n",
    "This is your first checkpoint.  If you ever decide to come back to this notebook or have to restart the notebook, you can start from here.  The preprocessed data has been saved to disk."
   ]
  },
  {
   "cell_type": "code",
   "execution_count": 6,
   "metadata": {
    "collapsed": true
   },
   "outputs": [],
   "source": [
    "\"\"\"\n",
    "DON'T MODIFY ANYTHING IN THIS CELL\n",
    "\"\"\"\n",
    "import pickle\n",
    "import problem_unittests as tests\n",
    "import helper\n",
    "\n",
    "# Load the Preprocessed Validation data\n",
    "valid_features, valid_labels = pickle.load(open('preprocess_validation.p', mode='rb'))"
   ]
  },
  {
   "cell_type": "markdown",
   "metadata": {},
   "source": [
    "## Build the network\n",
    "For the neural network, you'll build each layer into a function.  Most of the code you've seen has been outside of functions. To test your code more thoroughly, we require that you put each layer in a function.  This allows us to give you better feedback and test for simple mistakes using our unittests before you submit your project.\n",
    "\n",
    ">**Note:** If you're finding it hard to dedicate enough time for this course each week, we've provided a small shortcut to this part of the project. In the next couple of problems, you'll have the option to use classes from the [TensorFlow Layers](https://www.tensorflow.org/api_docs/python/tf/layers) or [TensorFlow Layers (contrib)](https://www.tensorflow.org/api_guides/python/contrib.layers) packages to build each layer, except the layers you build in the \"Convolutional and Max Pooling Layer\" section.  TF Layers is similar to Keras's and TFLearn's abstraction to layers, so it's easy to pickup.\n",
    "\n",
    ">However, if you would like to get the most out of this course, try to solve all the problems _without_ using anything from the TF Layers packages. You **can** still use classes from other packages that happen to have the same name as ones you find in TF Layers! For example, instead of using the TF Layers version of the `conv2d` class, [tf.layers.conv2d](https://www.tensorflow.org/api_docs/python/tf/layers/conv2d), you would want to use the TF Neural Network version of `conv2d`, [tf.nn.conv2d](https://www.tensorflow.org/api_docs/python/tf/nn/conv2d). \n",
    "\n",
    "Let's begin!\n",
    "\n",
    "### Input\n",
    "The neural network needs to read the image data, one-hot encoded labels, and dropout keep probability. Implement the following functions\n",
    "* Implement `neural_net_image_input`\n",
    " * Return a [TF Placeholder](https://www.tensorflow.org/api_docs/python/tf/placeholder)\n",
    " * Set the shape using `image_shape` with batch size set to `None`.\n",
    " * Name the TensorFlow placeholder \"x\" using the TensorFlow `name` parameter in the [TF Placeholder](https://www.tensorflow.org/api_docs/python/tf/placeholder).\n",
    "* Implement `neural_net_label_input`\n",
    " * Return a [TF Placeholder](https://www.tensorflow.org/api_docs/python/tf/placeholder)\n",
    " * Set the shape using `n_classes` with batch size set to `None`.\n",
    " * Name the TensorFlow placeholder \"y\" using the TensorFlow `name` parameter in the [TF Placeholder](https://www.tensorflow.org/api_docs/python/tf/placeholder).\n",
    "* Implement `neural_net_keep_prob_input`\n",
    " * Return a [TF Placeholder](https://www.tensorflow.org/api_docs/python/tf/placeholder) for dropout keep probability.\n",
    " * Name the TensorFlow placeholder \"keep_prob\" using the TensorFlow `name` parameter in the [TF Placeholder](https://www.tensorflow.org/api_docs/python/tf/placeholder).\n",
    "\n",
    "These names will be used at the end of the project to load your saved model.\n",
    "\n",
    "Note: `None` for shapes in TensorFlow allow for a dynamic size."
   ]
  },
  {
   "cell_type": "code",
   "execution_count": 7,
   "metadata": {
    "collapsed": false
   },
   "outputs": [
    {
     "name": "stdout",
     "output_type": "stream",
     "text": [
      "Image Input Tests Passed.\n",
      "Label Input Tests Passed.\n",
      "Keep Prob Tests Passed.\n"
     ]
    }
   ],
   "source": [
    "import tensorflow as tf\n",
    "\n",
    "def neural_net_image_input(image_shape):\n",
    "    \"\"\"\n",
    "    Return a Tensor for a batch of image input\n",
    "    : image_shape: Shape of the images\n",
    "    : return: Tensor for image input.\n",
    "    \"\"\"\n",
    "    return tf.placeholder(tf.float32, [None, image_shape[0],image_shape[1],image_shape[2]], name='x')\n",
    "\n",
    "def neural_net_label_input(n_classes):\n",
    "    \"\"\"\n",
    "    Return a Tensor for a batch of label input\n",
    "    : n_classes: Number of classes\n",
    "    : return: Tensor for label input.\n",
    "    \"\"\"\n",
    "    return tf.placeholder(tf.float32, [None, n_classes], name = 'y')\n",
    "\n",
    "def neural_net_keep_prob_input():\n",
    "    \"\"\"\n",
    "    Return a Tensor for keep probability\n",
    "    : return: Tensor for keep probability.\n",
    "    \"\"\"    \n",
    "    return tf.placeholder(tf.float32, name = 'keep_prob')\n",
    "\n",
    "\n",
    "\"\"\"\n",
    "DON'T MODIFY ANYTHING IN THIS CELL THAT IS BELOW THIS LINE\n",
    "\"\"\"\n",
    "tf.reset_default_graph()\n",
    "tests.test_nn_image_inputs(neural_net_image_input)\n",
    "tests.test_nn_label_inputs(neural_net_label_input)\n",
    "tests.test_nn_keep_prob_inputs(neural_net_keep_prob_input)"
   ]
  },
  {
   "cell_type": "markdown",
   "metadata": {},
   "source": [
    "### Convolution and Max Pooling Layer\n",
    "Convolution layers have a lot of success with images. For this code cell, you should implement the function `conv2d_maxpool` to apply convolution then max pooling:\n",
    "* Create the weight and bias using `conv_ksize`, `conv_num_outputs` and the shape of `x_tensor`.\n",
    "* Apply a convolution to `x_tensor` using weight and `conv_strides`.\n",
    " * We recommend you use same padding, but you're welcome to use any padding.\n",
    "* Add bias\n",
    "* Add a nonlinear activation to the convolution.\n",
    "* Apply Max Pooling using `pool_ksize` and `pool_strides`.\n",
    " * We recommend you use same padding, but you're welcome to use any padding.\n",
    "\n",
    "**Note:** You **can't** use [TensorFlow Layers](https://www.tensorflow.org/api_docs/python/tf/layers) or [TensorFlow Layers (contrib)](https://www.tensorflow.org/api_guides/python/contrib.layers) for **this** layer, but you can still use TensorFlow's [Neural Network](https://www.tensorflow.org/api_docs/python/tf/nn) package. You may still use the shortcut option for all the **other** layers."
   ]
  },
  {
   "cell_type": "code",
   "execution_count": 8,
   "metadata": {
    "collapsed": false
   },
   "outputs": [
    {
     "name": "stdout",
     "output_type": "stream",
     "text": [
      "Tests Passed\n"
     ]
    }
   ],
   "source": [
    "def conv2d_maxpool(x_tensor, conv_num_outputs, conv_ksize, conv_strides, pool_ksize, pool_strides):\n",
    "    \"\"\"\n",
    "    Apply convolution then max pooling to x_tensor\n",
    "    :param x_tensor: TensorFlow Tensor\n",
    "    :param conv_num_outputs: Number of outputs for the convolutional layer\n",
    "    :param conv_ksize: kernal size 2-D Tuple for the convolutional layer\n",
    "    :param conv_strides: Stride 2-D Tuple for convolution\n",
    "    :param pool_ksize: kernal size 2-D Tuple for pool\n",
    "    :param pool_strides: Stride 2-D Tuple for pool\n",
    "    : return: A tensor that represents convolution and max pooling of x_tensor\n",
    "    \"\"\"\n",
    "    std_deviation = 0.05 # standard deviation for the weights\n",
    "    # depth of the provided, x_tensor\n",
    "    tensor_depth = x_tensor.get_shape().as_list()[3]\n",
    "    # build up weights and biases\n",
    "    weights = tf.Variable(tf.truncated_normal([conv_ksize[0], conv_ksize[1], tensor_depth, conv_num_outputs], stddev=std_deviation))\n",
    "    biases = tf.Variable(tf.zeros(conv_num_outputs))\n",
    "    # apply convolution, add bias, non-linear activation function and max-pooling\n",
    "    x_tensor = tf.nn.conv2d(x_tensor, weights, [1, conv_strides[0], conv_strides[1], 1], padding='SAME')\n",
    "    x_tensor = tf.nn.bias_add(x_tensor, biases)\n",
    "    x_tensor = tf.nn.relu(x_tensor)  \n",
    "    x_tensor = tf.nn.max_pool(x_tensor, [1,pool_ksize[0],pool_ksize[1],1], [1,pool_strides[0],pool_strides[1],1], padding='SAME')    \n",
    "    return x_tensor\n",
    "\n",
    "\"\"\"\n",
    "DON'T MODIFY ANYTHING IN THIS CELL THAT IS BELOW THIS LINE\n",
    "\"\"\"\n",
    "tests.test_con_pool(conv2d_maxpool)"
   ]
  },
  {
   "cell_type": "markdown",
   "metadata": {},
   "source": [
    "### Flatten Layer\n",
    "Implement the `flatten` function to change the dimension of `x_tensor` from a 4-D tensor to a 2-D tensor.  The output should be the shape (*Batch Size*, *Flattened Image Size*). Shortcut option: you can use classes from the [TensorFlow Layers](https://www.tensorflow.org/api_docs/python/tf/layers) or [TensorFlow Layers (contrib)](https://www.tensorflow.org/api_guides/python/contrib.layers) packages for this layer. For more of a challenge, only use other TensorFlow packages."
   ]
  },
  {
   "cell_type": "code",
   "execution_count": 9,
   "metadata": {
    "collapsed": false
   },
   "outputs": [
    {
     "name": "stdout",
     "output_type": "stream",
     "text": [
      "Tests Passed\n"
     ]
    }
   ],
   "source": [
    "def flatten_primitives(x_tensor):\n",
    "    shape = x_tensor.get_shape().as_list()   # get the shape\n",
    "    dim = np.prod(shape[1:])                 # flatten the shape\n",
    "    shaped_tensor = tf.reshape(x_tensor, [-1, dim]) # reshape the tensor according to the flattened shape    \n",
    "    return shaped_tensor\n",
    "\n",
    "def flatten_contrib(x_tensor):\n",
    "    #print(tf.contrib.layers.flatten(x_tensor))\n",
    "    return tf.contrib.layers.flatten(x_tensor)\n",
    "\n",
    "def flatten(x_tensor):\n",
    "    \"\"\"\n",
    "    Flatten x_tensor to (Batch Size, Flattened Image Size)\n",
    "    : x_tensor: A tensor of size (Batch Size, ...), where ... are the image dimensions.\n",
    "    : return: A tensor of size (Batch Size, Flattened Image Size).\n",
    "    \"\"\"\n",
    "    #return flatten_contrib(x_tensor)\n",
    "    return flatten_primitives(x_tensor)\n",
    "\n",
    "\"\"\"\n",
    "DON'T MODIFY ANYTHING IN THIS CELL THAT IS BELOW THIS LINE\n",
    "\"\"\"\n",
    "tests.test_flatten(flatten)"
   ]
  },
  {
   "cell_type": "markdown",
   "metadata": {},
   "source": [
    "### Fully-Connected Layer\n",
    "Implement the `fully_conn` function to apply a fully connected layer to `x_tensor` with the shape (*Batch Size*, *num_outputs*). Shortcut option: you can use classes from the [TensorFlow Layers](https://www.tensorflow.org/api_docs/python/tf/layers) or [TensorFlow Layers (contrib)](https://www.tensorflow.org/api_guides/python/contrib.layers) packages for this layer. For more of a challenge, only use other TensorFlow packages."
   ]
  },
  {
   "cell_type": "code",
   "execution_count": 13,
   "metadata": {
    "collapsed": false
   },
   "outputs": [
    {
     "name": "stdout",
     "output_type": "stream",
     "text": [
      "Tests Passed\n"
     ]
    }
   ],
   "source": [
    "def fully_primitives(x_tensor, num_outputs):\n",
    "    std_deviation = 0.05 # standard deviation for the weights    \n",
    "    shape = x_tensor.get_shape().as_list()    # get the shape of x_tensor and change it to list\n",
    "    weights = tf.Variable(tf.truncated_normal([shape[1], num_outputs], stddev=std_deviation))\n",
    "    biases = tf.Variable(tf.zeros(num_outputs))    \n",
    "    return tf.add(tf.matmul(x_tensor, weights), biases)\n",
    "\n",
    "def fully_contrib(x_tensor, num_outputs):\n",
    "    return tf.contrib.layers.fully_connected(x_tensor, num_outputs, activation_fn=tf.nn.relu)\n",
    "\n",
    "def fully_conn(x_tensor, num_outputs):\n",
    "    \"\"\"\n",
    "    Apply a fully connected layer to x_tensor using weight and bias\n",
    "    : x_tensor: A 2-D tensor where the first dimension is batch size.\n",
    "    : num_outputs: The number of output that the new tensor should be.\n",
    "    : return: A 2-D tensor where the second dimension is num_outputs.\n",
    "    \"\"\"    \n",
    "    #return fully_contrib(x_tensor, num_outputs)\n",
    "    return tf.nn.relu(fully_primitives(x_tensor, num_outputs))\n",
    "\n",
    "\n",
    "\"\"\"\n",
    "DON'T MODIFY ANYTHING IN THIS CELL THAT IS BELOW THIS LINE\n",
    "\"\"\"\n",
    "tests.test_fully_conn(fully_conn)"
   ]
  },
  {
   "cell_type": "markdown",
   "metadata": {},
   "source": [
    "### Output Layer\n",
    "Implement the `output` function to apply a fully connected layer to `x_tensor` with the shape (*Batch Size*, *num_outputs*). Shortcut option: you can use classes from the [TensorFlow Layers](https://www.tensorflow.org/api_docs/python/tf/layers) or [TensorFlow Layers (contrib)](https://www.tensorflow.org/api_guides/python/contrib.layers) packages for this layer. For more of a challenge, only use other TensorFlow packages.\n",
    "\n",
    "**Note:** Activation, softmax, or cross entropy should **not** be applied to this."
   ]
  },
  {
   "cell_type": "code",
   "execution_count": 14,
   "metadata": {
    "collapsed": false
   },
   "outputs": [
    {
     "name": "stdout",
     "output_type": "stream",
     "text": [
      "Tests Passed\n"
     ]
    }
   ],
   "source": [
    "def output_primitives(x_tensor, num_outputs):\n",
    "    std_deviation = 0.05 # standard deviation for the weights\n",
    "    shape = x_tensor.get_shape().as_list()    # get the shape of x_tensor and change it to list\n",
    "    weights = tf.Variable(tf.truncated_normal([shape[1], num_outputs], stddev=std_deviation))\n",
    "    biases = tf.Variable(tf.zeros(num_outputs))   \n",
    "    x_tensor = tf.add(tf.matmul(x_tensor, weights), biases)\n",
    "    #x_tensor = tf.nn.relu(x_tensor)\n",
    "    return x_tensor\n",
    "\n",
    "def output_contrib(x_tensor, num_outputs):\n",
    "    return tf.contrib.layers.fully_connected(x_tensor, num_outputs, activation_fn=tf.nn.relu)\n",
    "    \n",
    "def output(x_tensor, num_outputs):\n",
    "    \"\"\"\n",
    "    Apply a output layer to x_tensor using weight and bias\n",
    "    : x_tensor: A 2-D tensor where the first dimension is batch size.\n",
    "    : num_outputs: The number of output that the new tensor should be.\n",
    "    : return: A 2-D tensor where the second dimension is num_outputs.\n",
    "    \"\"\"\n",
    "    #return output_contrib(x_tensor, num_outputs)\n",
    "    return output_primitives(x_tensor, num_outputs)\n",
    "\n",
    "\"\"\"\n",
    "DON'T MODIFY ANYTHING IN THIS CELL THAT IS BELOW THIS LINE\n",
    "\"\"\"\n",
    "tests.test_output(output)"
   ]
  },
  {
   "cell_type": "markdown",
   "metadata": {},
   "source": [
    "### Create Convolutional Model\n",
    "Implement the function `conv_net` to create a convolutional neural network model. The function takes in a batch of images, `x`, and outputs logits.  Use the layers you created above to create this model:\n",
    "\n",
    "* Apply 1, 2, or 3 Convolution and Max Pool layers\n",
    "* Apply a Flatten Layer\n",
    "* Apply 1, 2, or 3 Fully Connected Layers\n",
    "* Apply an Output Layer\n",
    "* Return the output\n",
    "* Apply [TensorFlow's Dropout](https://www.tensorflow.org/api_docs/python/tf/nn/dropout) to one or more layers in the model using `keep_prob`. "
   ]
  },
  {
   "cell_type": "code",
   "execution_count": 15,
   "metadata": {
    "collapsed": false
   },
   "outputs": [
    {
     "name": "stdout",
     "output_type": "stream",
     "text": [
      "Neural Network Built!\n"
     ]
    }
   ],
   "source": [
    "def conv_net(x, keep_prob):\n",
    "    \"\"\"\n",
    "    Create a convolutional neural network model\n",
    "    : x: Placeholder tensor that holds image data.\n",
    "    : keep_prob: Placeholder tensor that hold dropout keep probability.\n",
    "    : return: Tensor that represents logits\n",
    "    \"\"\"\n",
    "    # Apply 1, 2, or 3 Convolution and Max Pool layers\n",
    "    conv_num_outputs = (64, \n",
    "                        64, \n",
    "                        64)\n",
    "    conv_ksize = ((3,3), \n",
    "                  (3,3), \n",
    "                  (3,3))\n",
    "    conv_strides = ((1,1), \n",
    "                    (1,1), \n",
    "                    (1,1))\n",
    "    pool_ksize = ((2,2), \n",
    "                  (2,2), \n",
    "                  (2,2))\n",
    "    pool_strides = ((2,2), \n",
    "                    (2,2), \n",
    "                    (2,2))\n",
    "    \n",
    "    x = conv2d_maxpool(x, conv_num_outputs[0], conv_ksize[0], conv_strides[0], pool_ksize[0], pool_strides[0])\n",
    "    x = conv2d_maxpool(x, conv_num_outputs[1], conv_ksize[1], conv_strides[1], pool_ksize[1], pool_strides[1])\n",
    "    x = conv2d_maxpool(x, conv_num_outputs[2], conv_ksize[2], conv_strides[2], pool_ksize[2], pool_strides[2])    \n",
    "\n",
    "    # Apply a Flatten Layer\n",
    "    x = flatten(x)\n",
    "    \n",
    "\n",
    "    # Apply 1, 2, or 3 Fully Connected Layers\n",
    "    num_outputs = (1024, 256, 64)\n",
    "    x = fully_conn(x, num_outputs[0])\n",
    "    x = tf.nn.dropout(x, keep_prob)\n",
    "    # x = fully_conn(x, num_outputs[1])\n",
    "    # x = tf.nn.dropout(x, keep_prob)\n",
    "    # x = fully_conn(x, num_outputs[2])\n",
    "    # x = tf.nn.dropout(x, keep_prob)    \n",
    "    \n",
    "    # Apply an Output Layer\n",
    "    logits = output(x, 10)    \n",
    "    return logits\n",
    "\n",
    "\n",
    "\"\"\"\n",
    "DON'T MODIFY ANYTHING IN THIS CELL THAT IS BELOW THIS LINE\n",
    "\"\"\"\n",
    "\n",
    "##############################\n",
    "## Build the Neural Network ##\n",
    "##############################\n",
    "\n",
    "# Remove previous weights, bias, inputs, etc..\n",
    "tf.reset_default_graph()\n",
    "\n",
    "# Inputs\n",
    "x = neural_net_image_input((32, 32, 3))\n",
    "y = neural_net_label_input(10)\n",
    "keep_prob = neural_net_keep_prob_input()\n",
    "\n",
    "# Model\n",
    "logits = conv_net(x, keep_prob)\n",
    "\n",
    "# Name logits Tensor, so that is can be loaded from disk after training\n",
    "logits = tf.identity(logits, name='logits')\n",
    "\n",
    "# Loss and Optimizer\n",
    "cost = tf.reduce_mean(tf.nn.softmax_cross_entropy_with_logits(logits=logits, labels=y))\n",
    "optimizer = tf.train.AdamOptimizer().minimize(cost)\n",
    "\n",
    "# Accuracy\n",
    "correct_pred = tf.equal(tf.argmax(logits, 1), tf.argmax(y, 1))\n",
    "accuracy = tf.reduce_mean(tf.cast(correct_pred, tf.float32), name='accuracy')\n",
    "\n",
    "tests.test_conv_net(conv_net)"
   ]
  },
  {
   "cell_type": "markdown",
   "metadata": {},
   "source": [
    "## Train the Neural Network\n",
    "### Single Optimization\n",
    "Implement the function `train_neural_network` to do a single optimization.  The optimization should use `optimizer` to optimize in `session` with a `feed_dict` of the following:\n",
    "* `x` for image input\n",
    "* `y` for labels\n",
    "* `keep_prob` for keep probability for dropout\n",
    "\n",
    "This function will be called for each batch, so `tf.global_variables_initializer()` has already been called.\n",
    "\n",
    "Note: Nothing needs to be returned. This function is only optimizing the neural network."
   ]
  },
  {
   "cell_type": "code",
   "execution_count": 16,
   "metadata": {
    "collapsed": false
   },
   "outputs": [
    {
     "name": "stdout",
     "output_type": "stream",
     "text": [
      "Tests Passed\n"
     ]
    }
   ],
   "source": [
    "def train_neural_network(session, optimizer, keep_probability, feature_batch, label_batch):\n",
    "    \"\"\"\n",
    "    Optimize the session on a batch of images and labels\n",
    "    : session: Current TensorFlow session\n",
    "    : optimizer: TensorFlow optimizer function\n",
    "    : keep_probability: keep probability\n",
    "    : feature_batch: Batch of Numpy image data\n",
    "    : label_batch: Batch of Numpy label data\n",
    "    \"\"\"\n",
    "    session.run(optimizer, feed_dict={x: feature_batch, y: label_batch, keep_prob: keep_probability})\n",
    "\n",
    "\"\"\"\n",
    "DON'T MODIFY ANYTHING IN THIS CELL THAT IS BELOW THIS LINE\n",
    "\"\"\"\n",
    "tests.test_train_nn(train_neural_network)"
   ]
  },
  {
   "cell_type": "markdown",
   "metadata": {},
   "source": [
    "### Show Stats\n",
    "Implement the function `print_stats` to print loss and validation accuracy.  Use the global variables `valid_features` and `valid_labels` to calculate validation accuracy.  Use a keep probability of `1.0` to calculate the loss and validation accuracy."
   ]
  },
  {
   "cell_type": "code",
   "execution_count": 17,
   "metadata": {
    "collapsed": false
   },
   "outputs": [],
   "source": [
    "def print_stats(session, feature_batch, label_batch, cost, accuracy):\n",
    "    \"\"\"\n",
    "    Print information about loss and validation accuracy\n",
    "    : session: Current TensorFlow session\n",
    "    : feature_batch: Batch of Numpy image data\n",
    "    : label_batch: Batch of Numpy label data\n",
    "    : cost: TensorFlow cost function\n",
    "    : accuracy: TensorFlow accuracy function\n",
    "    \"\"\"\n",
    "    loss = session.run(cost, feed_dict={x:feature_batch, y:label_batch, keep_prob:1.0})\n",
    "    validation_accuracy = session.run(accuracy, feed_dict={x: valid_features, y: valid_labels, keep_prob:1.0})\n",
    "    print('Current loss is : %f.    Validation accuracy is : %.2f%%'%(loss,validation_accuracy*100))"
   ]
  },
  {
   "cell_type": "markdown",
   "metadata": {},
   "source": [
    "### Hyperparameters\n",
    "Tune the following parameters:\n",
    "* Set `epochs` to the number of iterations until the network stops learning or start overfitting\n",
    "* Set `batch_size` to the highest number that your machine has memory for.  Most people set them to common sizes of memory:\n",
    " * 64\n",
    " * 128\n",
    " * 256\n",
    " * ...\n",
    "* Set `keep_probability` to the probability of keeping a node using dropout"
   ]
  },
  {
   "cell_type": "code",
   "execution_count": 18,
   "metadata": {
    "collapsed": true
   },
   "outputs": [],
   "source": [
    "# Tune Parameters\n",
    "epochs = 50\n",
    "batch_size = 128\n",
    "keep_probability = 0.5"
   ]
  },
  {
   "cell_type": "markdown",
   "metadata": {},
   "source": [
    "### Train on a Single CIFAR-10 Batch\n",
    "Instead of training the neural network on all the CIFAR-10 batches of data, let's use a single batch. This should save time while you iterate on the model to get a better accuracy.  Once the final validation accuracy is 50% or greater, run the model on all the data in the next section."
   ]
  },
  {
   "cell_type": "code",
   "execution_count": 19,
   "metadata": {
    "collapsed": false
   },
   "outputs": [
    {
     "name": "stdout",
     "output_type": "stream",
     "text": [
      "Checking the Training on a Single Batch...\n",
      "Epoch  1, CIFAR-10 Batch 1:  Current loss is : 1.905228.    Validation accuracy is : 36.94%\n",
      "Epoch  2, CIFAR-10 Batch 1:  Current loss is : 1.702300.    Validation accuracy is : 45.32%\n",
      "Epoch  3, CIFAR-10 Batch 1:  Current loss is : 1.461761.    Validation accuracy is : 49.30%\n",
      "Epoch  4, CIFAR-10 Batch 1:  Current loss is : 1.226517.    Validation accuracy is : 50.90%\n",
      "Epoch  5, CIFAR-10 Batch 1:  Current loss is : 1.048824.    Validation accuracy is : 55.38%\n",
      "Epoch  6, CIFAR-10 Batch 1:  Current loss is : 0.993116.    Validation accuracy is : 55.22%\n",
      "Epoch  7, CIFAR-10 Batch 1:  Current loss is : 0.804346.    Validation accuracy is : 58.12%\n",
      "Epoch  8, CIFAR-10 Batch 1:  Current loss is : 0.660249.    Validation accuracy is : 59.94%\n",
      "Epoch  9, CIFAR-10 Batch 1:  Current loss is : 0.565634.    Validation accuracy is : 60.24%\n",
      "Epoch 10, CIFAR-10 Batch 1:  Current loss is : 0.440048.    Validation accuracy is : 61.88%\n"
     ]
    },
    {
     "ename": "KeyboardInterrupt",
     "evalue": "",
     "output_type": "error",
     "traceback": [
      "\u001b[0;31m---------------------------------------------------------------------------\u001b[0m",
      "\u001b[0;31mKeyboardInterrupt\u001b[0m                         Traceback (most recent call last)",
      "\u001b[0;32m<ipython-input-19-318c013b2629>\u001b[0m in \u001b[0;36m<module>\u001b[0;34m()\u001b[0m\n\u001b[1;32m     11\u001b[0m         \u001b[0mbatch_i\u001b[0m \u001b[0;34m=\u001b[0m \u001b[0;36m1\u001b[0m\u001b[0;34m\u001b[0m\u001b[0m\n\u001b[1;32m     12\u001b[0m         \u001b[0;32mfor\u001b[0m \u001b[0mbatch_features\u001b[0m\u001b[0;34m,\u001b[0m \u001b[0mbatch_labels\u001b[0m \u001b[0;32min\u001b[0m \u001b[0mhelper\u001b[0m\u001b[0;34m.\u001b[0m\u001b[0mload_preprocess_training_batch\u001b[0m\u001b[0;34m(\u001b[0m\u001b[0mbatch_i\u001b[0m\u001b[0;34m,\u001b[0m \u001b[0mbatch_size\u001b[0m\u001b[0;34m)\u001b[0m\u001b[0;34m:\u001b[0m\u001b[0;34m\u001b[0m\u001b[0m\n\u001b[0;32m---> 13\u001b[0;31m             \u001b[0mtrain_neural_network\u001b[0m\u001b[0;34m(\u001b[0m\u001b[0msess\u001b[0m\u001b[0;34m,\u001b[0m \u001b[0moptimizer\u001b[0m\u001b[0;34m,\u001b[0m \u001b[0mkeep_probability\u001b[0m\u001b[0;34m,\u001b[0m \u001b[0mbatch_features\u001b[0m\u001b[0;34m,\u001b[0m \u001b[0mbatch_labels\u001b[0m\u001b[0;34m)\u001b[0m\u001b[0;34m\u001b[0m\u001b[0m\n\u001b[0m\u001b[1;32m     14\u001b[0m         \u001b[0mprint\u001b[0m\u001b[0;34m(\u001b[0m\u001b[0;34m'Epoch {:>2}, CIFAR-10 Batch {}:  '\u001b[0m\u001b[0;34m.\u001b[0m\u001b[0mformat\u001b[0m\u001b[0;34m(\u001b[0m\u001b[0mepoch\u001b[0m \u001b[0;34m+\u001b[0m \u001b[0;36m1\u001b[0m\u001b[0;34m,\u001b[0m \u001b[0mbatch_i\u001b[0m\u001b[0;34m)\u001b[0m\u001b[0;34m,\u001b[0m \u001b[0mend\u001b[0m\u001b[0;34m=\u001b[0m\u001b[0;34m''\u001b[0m\u001b[0;34m)\u001b[0m\u001b[0;34m\u001b[0m\u001b[0m\n\u001b[1;32m     15\u001b[0m         \u001b[0mprint_stats\u001b[0m\u001b[0;34m(\u001b[0m\u001b[0msess\u001b[0m\u001b[0;34m,\u001b[0m \u001b[0mbatch_features\u001b[0m\u001b[0;34m,\u001b[0m \u001b[0mbatch_labels\u001b[0m\u001b[0;34m,\u001b[0m \u001b[0mcost\u001b[0m\u001b[0;34m,\u001b[0m \u001b[0maccuracy\u001b[0m\u001b[0;34m)\u001b[0m\u001b[0;34m\u001b[0m\u001b[0m\n",
      "\u001b[0;32m<ipython-input-16-bebfe65999a5>\u001b[0m in \u001b[0;36mtrain_neural_network\u001b[0;34m(session, optimizer, keep_probability, feature_batch, label_batch)\u001b[0m\n\u001b[1;32m      8\u001b[0m     \u001b[0;34m:\u001b[0m \u001b[0mlabel_batch\u001b[0m\u001b[0;34m:\u001b[0m \u001b[0mBatch\u001b[0m \u001b[0mof\u001b[0m \u001b[0mNumpy\u001b[0m \u001b[0mlabel\u001b[0m \u001b[0mdata\u001b[0m\u001b[0;34m\u001b[0m\u001b[0m\n\u001b[1;32m      9\u001b[0m     \"\"\"\n\u001b[0;32m---> 10\u001b[0;31m     \u001b[0msession\u001b[0m\u001b[0;34m.\u001b[0m\u001b[0mrun\u001b[0m\u001b[0;34m(\u001b[0m\u001b[0moptimizer\u001b[0m\u001b[0;34m,\u001b[0m \u001b[0mfeed_dict\u001b[0m\u001b[0;34m=\u001b[0m\u001b[0;34m{\u001b[0m\u001b[0mx\u001b[0m\u001b[0;34m:\u001b[0m \u001b[0mfeature_batch\u001b[0m\u001b[0;34m,\u001b[0m \u001b[0my\u001b[0m\u001b[0;34m:\u001b[0m \u001b[0mlabel_batch\u001b[0m\u001b[0;34m,\u001b[0m \u001b[0mkeep_prob\u001b[0m\u001b[0;34m:\u001b[0m \u001b[0mkeep_probability\u001b[0m\u001b[0;34m}\u001b[0m\u001b[0;34m)\u001b[0m\u001b[0;34m\u001b[0m\u001b[0m\n\u001b[0m\u001b[1;32m     11\u001b[0m \u001b[0;34m\u001b[0m\u001b[0m\n\u001b[1;32m     12\u001b[0m \"\"\"\n",
      "\u001b[0;32m/Users/victor/anaconda3/envs/tensorflow/lib/python3.5/site-packages/tensorflow/python/client/session.py\u001b[0m in \u001b[0;36mrun\u001b[0;34m(self, fetches, feed_dict, options, run_metadata)\u001b[0m\n\u001b[1;32m    765\u001b[0m     \u001b[0;32mtry\u001b[0m\u001b[0;34m:\u001b[0m\u001b[0;34m\u001b[0m\u001b[0m\n\u001b[1;32m    766\u001b[0m       result = self._run(None, fetches, feed_dict, options_ptr,\n\u001b[0;32m--> 767\u001b[0;31m                          run_metadata_ptr)\n\u001b[0m\u001b[1;32m    768\u001b[0m       \u001b[0;32mif\u001b[0m \u001b[0mrun_metadata\u001b[0m\u001b[0;34m:\u001b[0m\u001b[0;34m\u001b[0m\u001b[0m\n\u001b[1;32m    769\u001b[0m         \u001b[0mproto_data\u001b[0m \u001b[0;34m=\u001b[0m \u001b[0mtf_session\u001b[0m\u001b[0;34m.\u001b[0m\u001b[0mTF_GetBuffer\u001b[0m\u001b[0;34m(\u001b[0m\u001b[0mrun_metadata_ptr\u001b[0m\u001b[0;34m)\u001b[0m\u001b[0;34m\u001b[0m\u001b[0m\n",
      "\u001b[0;32m/Users/victor/anaconda3/envs/tensorflow/lib/python3.5/site-packages/tensorflow/python/client/session.py\u001b[0m in \u001b[0;36m_run\u001b[0;34m(self, handle, fetches, feed_dict, options, run_metadata)\u001b[0m\n\u001b[1;32m    963\u001b[0m     \u001b[0;32mif\u001b[0m \u001b[0mfinal_fetches\u001b[0m \u001b[0;32mor\u001b[0m \u001b[0mfinal_targets\u001b[0m\u001b[0;34m:\u001b[0m\u001b[0;34m\u001b[0m\u001b[0m\n\u001b[1;32m    964\u001b[0m       results = self._do_run(handle, final_targets, final_fetches,\n\u001b[0;32m--> 965\u001b[0;31m                              feed_dict_string, options, run_metadata)\n\u001b[0m\u001b[1;32m    966\u001b[0m     \u001b[0;32melse\u001b[0m\u001b[0;34m:\u001b[0m\u001b[0;34m\u001b[0m\u001b[0m\n\u001b[1;32m    967\u001b[0m       \u001b[0mresults\u001b[0m \u001b[0;34m=\u001b[0m \u001b[0;34m[\u001b[0m\u001b[0;34m]\u001b[0m\u001b[0;34m\u001b[0m\u001b[0m\n",
      "\u001b[0;32m/Users/victor/anaconda3/envs/tensorflow/lib/python3.5/site-packages/tensorflow/python/client/session.py\u001b[0m in \u001b[0;36m_do_run\u001b[0;34m(self, handle, target_list, fetch_list, feed_dict, options, run_metadata)\u001b[0m\n\u001b[1;32m   1013\u001b[0m     \u001b[0;32mif\u001b[0m \u001b[0mhandle\u001b[0m \u001b[0;32mis\u001b[0m \u001b[0;32mNone\u001b[0m\u001b[0;34m:\u001b[0m\u001b[0;34m\u001b[0m\u001b[0m\n\u001b[1;32m   1014\u001b[0m       return self._do_call(_run_fn, self._session, feed_dict, fetch_list,\n\u001b[0;32m-> 1015\u001b[0;31m                            target_list, options, run_metadata)\n\u001b[0m\u001b[1;32m   1016\u001b[0m     \u001b[0;32melse\u001b[0m\u001b[0;34m:\u001b[0m\u001b[0;34m\u001b[0m\u001b[0m\n\u001b[1;32m   1017\u001b[0m       return self._do_call(_prun_fn, self._session, handle, feed_dict,\n",
      "\u001b[0;32m/Users/victor/anaconda3/envs/tensorflow/lib/python3.5/site-packages/tensorflow/python/client/session.py\u001b[0m in \u001b[0;36m_do_call\u001b[0;34m(self, fn, *args)\u001b[0m\n\u001b[1;32m   1020\u001b[0m   \u001b[0;32mdef\u001b[0m \u001b[0m_do_call\u001b[0m\u001b[0;34m(\u001b[0m\u001b[0mself\u001b[0m\u001b[0;34m,\u001b[0m \u001b[0mfn\u001b[0m\u001b[0;34m,\u001b[0m \u001b[0;34m*\u001b[0m\u001b[0margs\u001b[0m\u001b[0;34m)\u001b[0m\u001b[0;34m:\u001b[0m\u001b[0;34m\u001b[0m\u001b[0m\n\u001b[1;32m   1021\u001b[0m     \u001b[0;32mtry\u001b[0m\u001b[0;34m:\u001b[0m\u001b[0;34m\u001b[0m\u001b[0m\n\u001b[0;32m-> 1022\u001b[0;31m       \u001b[0;32mreturn\u001b[0m \u001b[0mfn\u001b[0m\u001b[0;34m(\u001b[0m\u001b[0;34m*\u001b[0m\u001b[0margs\u001b[0m\u001b[0;34m)\u001b[0m\u001b[0;34m\u001b[0m\u001b[0m\n\u001b[0m\u001b[1;32m   1023\u001b[0m     \u001b[0;32mexcept\u001b[0m \u001b[0merrors\u001b[0m\u001b[0;34m.\u001b[0m\u001b[0mOpError\u001b[0m \u001b[0;32mas\u001b[0m \u001b[0me\u001b[0m\u001b[0;34m:\u001b[0m\u001b[0;34m\u001b[0m\u001b[0m\n\u001b[1;32m   1024\u001b[0m       \u001b[0mmessage\u001b[0m \u001b[0;34m=\u001b[0m \u001b[0mcompat\u001b[0m\u001b[0;34m.\u001b[0m\u001b[0mas_text\u001b[0m\u001b[0;34m(\u001b[0m\u001b[0me\u001b[0m\u001b[0;34m.\u001b[0m\u001b[0mmessage\u001b[0m\u001b[0;34m)\u001b[0m\u001b[0;34m\u001b[0m\u001b[0m\n",
      "\u001b[0;32m/Users/victor/anaconda3/envs/tensorflow/lib/python3.5/site-packages/tensorflow/python/client/session.py\u001b[0m in \u001b[0;36m_run_fn\u001b[0;34m(session, feed_dict, fetch_list, target_list, options, run_metadata)\u001b[0m\n\u001b[1;32m   1002\u001b[0m         return tf_session.TF_Run(session, options,\n\u001b[1;32m   1003\u001b[0m                                  \u001b[0mfeed_dict\u001b[0m\u001b[0;34m,\u001b[0m \u001b[0mfetch_list\u001b[0m\u001b[0;34m,\u001b[0m \u001b[0mtarget_list\u001b[0m\u001b[0;34m,\u001b[0m\u001b[0;34m\u001b[0m\u001b[0m\n\u001b[0;32m-> 1004\u001b[0;31m                                  status, run_metadata)\n\u001b[0m\u001b[1;32m   1005\u001b[0m \u001b[0;34m\u001b[0m\u001b[0m\n\u001b[1;32m   1006\u001b[0m     \u001b[0;32mdef\u001b[0m \u001b[0m_prun_fn\u001b[0m\u001b[0;34m(\u001b[0m\u001b[0msession\u001b[0m\u001b[0;34m,\u001b[0m \u001b[0mhandle\u001b[0m\u001b[0;34m,\u001b[0m \u001b[0mfeed_dict\u001b[0m\u001b[0;34m,\u001b[0m \u001b[0mfetch_list\u001b[0m\u001b[0;34m)\u001b[0m\u001b[0;34m:\u001b[0m\u001b[0;34m\u001b[0m\u001b[0m\n",
      "\u001b[0;31mKeyboardInterrupt\u001b[0m: "
     ]
    }
   ],
   "source": [
    "\"\"\"\n",
    "DON'T MODIFY ANYTHING IN THIS CELL\n",
    "\"\"\"\n",
    "print('Checking the Training on a Single Batch...')\n",
    "with tf.Session() as sess:\n",
    "    # Initializing the variables1\n",
    "    sess.run(tf.global_variables_initializer())\n",
    "    \n",
    "    # Training cycle\n",
    "    for epoch in range(epochs):\n",
    "        batch_i = 1\n",
    "        for batch_features, batch_labels in helper.load_preprocess_training_batch(batch_i, batch_size):\n",
    "            train_neural_network(sess, optimizer, keep_probability, batch_features, batch_labels)\n",
    "        print('Epoch {:>2}, CIFAR-10 Batch {}:  '.format(epoch + 1, batch_i), end='')\n",
    "        print_stats(sess, batch_features, batch_labels, cost, accuracy)"
   ]
  },
  {
   "cell_type": "markdown",
   "metadata": {},
   "source": [
    "### Fully Train the Model\n",
    "Now that you got a good accuracy with a single CIFAR-10 batch, try it with all five batches."
   ]
  },
  {
   "cell_type": "code",
   "execution_count": 20,
   "metadata": {
    "collapsed": false
   },
   "outputs": [
    {
     "name": "stdout",
     "output_type": "stream",
     "text": [
      "Training...\n",
      "Epoch  1, CIFAR-10 Batch 1:  Current loss is : 1.994236.    Validation accuracy is : 34.94%\n",
      "Epoch  1, CIFAR-10 Batch 2:  Current loss is : 1.621326.    Validation accuracy is : 43.14%\n",
      "Epoch  1, CIFAR-10 Batch 3:  Current loss is : 1.342868.    Validation accuracy is : 45.30%\n",
      "Epoch  1, CIFAR-10 Batch 4:  Current loss is : 1.374092.    Validation accuracy is : 50.42%\n",
      "Epoch  1, CIFAR-10 Batch 5:  Current loss is : 1.393810.    Validation accuracy is : 54.50%\n",
      "Epoch  2, CIFAR-10 Batch 1:  Current loss is : 1.352032.    Validation accuracy is : 54.44%\n",
      "Epoch  2, CIFAR-10 Batch 2:  Current loss is : 1.167813.    Validation accuracy is : 55.28%\n",
      "Epoch  2, CIFAR-10 Batch 3:  Current loss is : 0.911932.    Validation accuracy is : 56.36%\n",
      "Epoch  2, CIFAR-10 Batch 4:  Current loss is : 0.997973.    Validation accuracy is : 60.08%\n",
      "Epoch  2, CIFAR-10 Batch 5:  Current loss is : 0.980163.    Validation accuracy is : 63.72%\n",
      "Epoch  3, CIFAR-10 Batch 1:  Current loss is : 1.074258.    Validation accuracy is : 63.08%\n",
      "Epoch  3, CIFAR-10 Batch 2:  Current loss is : 0.925670.    Validation accuracy is : 63.16%\n",
      "Epoch  3, CIFAR-10 Batch 3:  Current loss is : 0.640526.    Validation accuracy is : 65.92%\n",
      "Epoch  3, CIFAR-10 Batch 4:  Current loss is : 0.736293.    Validation accuracy is : 65.76%\n",
      "Epoch  3, CIFAR-10 Batch 5:  Current loss is : 0.689273.    Validation accuracy is : 67.78%\n",
      "Epoch  4, CIFAR-10 Batch 1:  Current loss is : 0.891185.    Validation accuracy is : 64.82%\n",
      "Epoch  4, CIFAR-10 Batch 2:  Current loss is : 0.732459.    Validation accuracy is : 65.26%\n",
      "Epoch  4, CIFAR-10 Batch 3:  Current loss is : 0.482235.    Validation accuracy is : 69.60%\n",
      "Epoch  4, CIFAR-10 Batch 4:  Current loss is : 0.464559.    Validation accuracy is : 68.48%\n",
      "Epoch  4, CIFAR-10 Batch 5:  Current loss is : 0.508094.    Validation accuracy is : 69.30%\n",
      "Epoch  5, CIFAR-10 Batch 1:  Current loss is : 0.792596.    Validation accuracy is : 67.00%\n",
      "Epoch  5, CIFAR-10 Batch 2:  Current loss is : 0.498983.    Validation accuracy is : 68.82%\n",
      "Epoch  5, CIFAR-10 Batch 3:  Current loss is : 0.366261.    Validation accuracy is : 71.30%\n",
      "Epoch  5, CIFAR-10 Batch 4:  Current loss is : 0.336740.    Validation accuracy is : 70.56%\n",
      "Epoch  5, CIFAR-10 Batch 5:  Current loss is : 0.390457.    Validation accuracy is : 70.80%\n",
      "Epoch  6, CIFAR-10 Batch 1:  Current loss is : 0.609781.    Validation accuracy is : 68.88%\n",
      "Epoch  6, CIFAR-10 Batch 2:  Current loss is : 0.466202.    Validation accuracy is : 70.94%\n",
      "Epoch  6, CIFAR-10 Batch 3:  Current loss is : 0.277866.    Validation accuracy is : 72.26%\n",
      "Epoch  6, CIFAR-10 Batch 4:  Current loss is : 0.314905.    Validation accuracy is : 71.00%\n",
      "Epoch  6, CIFAR-10 Batch 5:  Current loss is : 0.321164.    Validation accuracy is : 71.90%\n",
      "Epoch  7, CIFAR-10 Batch 1:  Current loss is : 0.475203.    Validation accuracy is : 70.40%\n",
      "Epoch  7, CIFAR-10 Batch 2:  Current loss is : 0.335226.    Validation accuracy is : 70.52%\n",
      "Epoch  7, CIFAR-10 Batch 3:  Current loss is : 0.235098.    Validation accuracy is : 71.42%\n",
      "Epoch  7, CIFAR-10 Batch 4:  Current loss is : 0.239542.    Validation accuracy is : 72.10%\n",
      "Epoch  7, CIFAR-10 Batch 5:  Current loss is : 0.218253.    Validation accuracy is : 73.62%\n",
      "Epoch  8, CIFAR-10 Batch 1:  Current loss is : 0.381242.    Validation accuracy is : 70.74%\n",
      "Epoch  8, CIFAR-10 Batch 2:  Current loss is : 0.294506.    Validation accuracy is : 72.06%\n",
      "Epoch  8, CIFAR-10 Batch 3:  Current loss is : 0.169427.    Validation accuracy is : 73.44%\n",
      "Epoch  8, CIFAR-10 Batch 4:  Current loss is : 0.207158.    Validation accuracy is : 73.52%\n",
      "Epoch  8, CIFAR-10 Batch 5:  Current loss is : 0.188205.    Validation accuracy is : 72.40%\n",
      "Epoch  9, CIFAR-10 Batch 1:  Current loss is : 0.279235.    Validation accuracy is : 72.72%\n",
      "Epoch  9, CIFAR-10 Batch 2:  Current loss is : 0.183294.    Validation accuracy is : 71.94%\n",
      "Epoch  9, CIFAR-10 Batch 3:  Current loss is : 0.139470.    Validation accuracy is : 73.16%\n",
      "Epoch  9, CIFAR-10 Batch 4:  Current loss is : 0.174113.    Validation accuracy is : 73.00%\n",
      "Epoch  9, CIFAR-10 Batch 5:  Current loss is : 0.117396.    Validation accuracy is : 74.22%\n",
      "Epoch 10, CIFAR-10 Batch 1:  Current loss is : 0.231254.    Validation accuracy is : 73.56%\n",
      "Epoch 10, CIFAR-10 Batch 2:  Current loss is : 0.165754.    Validation accuracy is : 71.44%\n",
      "Epoch 10, CIFAR-10 Batch 3:  Current loss is : 0.112370.    Validation accuracy is : 73.82%\n",
      "Epoch 10, CIFAR-10 Batch 4:  Current loss is : 0.121383.    Validation accuracy is : 72.64%\n",
      "Epoch 10, CIFAR-10 Batch 5:  Current loss is : 0.148748.    Validation accuracy is : 73.50%\n",
      "Epoch 11, CIFAR-10 Batch 1:  Current loss is : 0.153410.    Validation accuracy is : 74.16%\n",
      "Epoch 11, CIFAR-10 Batch 2:  Current loss is : 0.121749.    Validation accuracy is : 73.86%\n",
      "Epoch 11, CIFAR-10 Batch 3:  Current loss is : 0.103573.    Validation accuracy is : 73.88%\n",
      "Epoch 11, CIFAR-10 Batch 4:  Current loss is : 0.093075.    Validation accuracy is : 73.94%\n",
      "Epoch 11, CIFAR-10 Batch 5:  Current loss is : 0.096252.    Validation accuracy is : 72.60%\n",
      "Epoch 12, CIFAR-10 Batch 1:  Current loss is : 0.092297.    Validation accuracy is : 74.08%\n",
      "Epoch 12, CIFAR-10 Batch 2:  Current loss is : 0.088959.    Validation accuracy is : 74.32%\n",
      "Epoch 12, CIFAR-10 Batch 3:  Current loss is : 0.078173.    Validation accuracy is : 73.32%\n",
      "Epoch 12, CIFAR-10 Batch 4:  Current loss is : 0.070239.    Validation accuracy is : 73.36%\n",
      "Epoch 12, CIFAR-10 Batch 5:  Current loss is : 0.062224.    Validation accuracy is : 74.00%\n",
      "Epoch 13, CIFAR-10 Batch 1:  Current loss is : 0.125478.    Validation accuracy is : 74.46%\n",
      "Epoch 13, CIFAR-10 Batch 2:  Current loss is : 0.060875.    Validation accuracy is : 73.46%\n",
      "Epoch 13, CIFAR-10 Batch 3:  Current loss is : 0.061700.    Validation accuracy is : 73.56%\n",
      "Epoch 13, CIFAR-10 Batch 4:  Current loss is : 0.062710.    Validation accuracy is : 74.26%\n",
      "Epoch 13, CIFAR-10 Batch 5:  Current loss is : 0.072242.    Validation accuracy is : 73.80%\n",
      "Epoch 14, CIFAR-10 Batch 1:  Current loss is : 0.077939.    Validation accuracy is : 74.28%\n",
      "Epoch 14, CIFAR-10 Batch 2:  Current loss is : 0.039671.    Validation accuracy is : 74.40%\n",
      "Epoch 14, CIFAR-10 Batch 3:  Current loss is : 0.062895.    Validation accuracy is : 73.36%\n",
      "Epoch 14, CIFAR-10 Batch 4:  Current loss is : 0.058600.    Validation accuracy is : 74.40%\n",
      "Epoch 14, CIFAR-10 Batch 5:  Current loss is : 0.040329.    Validation accuracy is : 74.74%\n",
      "Epoch 15, CIFAR-10 Batch 1:  Current loss is : 0.069307.    Validation accuracy is : 74.56%\n",
      "Epoch 15, CIFAR-10 Batch 2:  Current loss is : 0.043819.    Validation accuracy is : 73.46%\n",
      "Epoch 15, CIFAR-10 Batch 3:  Current loss is : 0.024638.    Validation accuracy is : 73.80%\n",
      "Epoch 15, CIFAR-10 Batch 4:  Current loss is : 0.026712.    Validation accuracy is : 73.86%\n",
      "Epoch 15, CIFAR-10 Batch 5:  Current loss is : 0.049570.    Validation accuracy is : 74.34%\n",
      "Epoch 16, CIFAR-10 Batch 1:  Current loss is : 0.048729.    Validation accuracy is : 74.18%\n",
      "Epoch 16, CIFAR-10 Batch 2:  Current loss is : 0.042899.    Validation accuracy is : 72.74%\n",
      "Epoch 16, CIFAR-10 Batch 3:  Current loss is : 0.034300.    Validation accuracy is : 73.24%\n",
      "Epoch 16, CIFAR-10 Batch 4:  Current loss is : 0.016390.    Validation accuracy is : 74.84%\n",
      "Epoch 16, CIFAR-10 Batch 5:  Current loss is : 0.049415.    Validation accuracy is : 73.20%\n",
      "Epoch 17, CIFAR-10 Batch 1:  Current loss is : 0.029357.    Validation accuracy is : 74.32%\n",
      "Epoch 17, CIFAR-10 Batch 2:  Current loss is : 0.016217.    Validation accuracy is : 73.48%\n",
      "Epoch 17, CIFAR-10 Batch 3:  Current loss is : 0.042534.    Validation accuracy is : 73.38%\n",
      "Epoch 17, CIFAR-10 Batch 4:  Current loss is : 0.030460.    Validation accuracy is : 73.42%\n",
      "Epoch 17, CIFAR-10 Batch 5:  Current loss is : 0.034409.    Validation accuracy is : 73.50%\n",
      "Epoch 18, CIFAR-10 Batch 1:  Current loss is : 0.046509.    Validation accuracy is : 73.18%\n",
      "Epoch 18, CIFAR-10 Batch 2:  Current loss is : 0.008929.    Validation accuracy is : 74.58%\n",
      "Epoch 18, CIFAR-10 Batch 3:  Current loss is : 0.024591.    Validation accuracy is : 72.96%\n",
      "Epoch 18, CIFAR-10 Batch 4:  Current loss is : 0.020119.    Validation accuracy is : 72.78%\n",
      "Epoch 18, CIFAR-10 Batch 5:  Current loss is : 0.017799.    Validation accuracy is : 74.50%\n",
      "Epoch 19, CIFAR-10 Batch 1:  Current loss is : 0.027552.    Validation accuracy is : 74.50%\n",
      "Epoch 19, CIFAR-10 Batch 2:  Current loss is : 0.015582.    Validation accuracy is : 74.38%\n",
      "Epoch 19, CIFAR-10 Batch 3:  Current loss is : 0.031129.    Validation accuracy is : 72.38%\n",
      "Epoch 19, CIFAR-10 Batch 4:  Current loss is : 0.013325.    Validation accuracy is : 73.96%\n",
      "Epoch 19, CIFAR-10 Batch 5:  Current loss is : 0.012547.    Validation accuracy is : 75.56%\n",
      "Epoch 20, CIFAR-10 Batch 1:  Current loss is : 0.010537.    Validation accuracy is : 74.18%\n",
      "Epoch 20, CIFAR-10 Batch 2:  Current loss is : 0.011846.    Validation accuracy is : 74.00%\n",
      "Epoch 20, CIFAR-10 Batch 3:  Current loss is : 0.015071.    Validation accuracy is : 74.86%\n",
      "Epoch 20, CIFAR-10 Batch 4:  Current loss is : 0.013958.    Validation accuracy is : 72.70%\n",
      "Epoch 20, CIFAR-10 Batch 5:  Current loss is : 0.010169.    Validation accuracy is : 74.96%\n",
      "Epoch 21, CIFAR-10 Batch 1:  Current loss is : 0.023373.    Validation accuracy is : 75.78%\n",
      "Epoch 21, CIFAR-10 Batch 2:  Current loss is : 0.014934.    Validation accuracy is : 74.08%\n",
      "Epoch 21, CIFAR-10 Batch 3:  Current loss is : 0.018165.    Validation accuracy is : 73.64%\n",
      "Epoch 21, CIFAR-10 Batch 4:  Current loss is : 0.015340.    Validation accuracy is : 71.66%\n",
      "Epoch 21, CIFAR-10 Batch 5:  Current loss is : 0.014517.    Validation accuracy is : 75.04%\n",
      "Epoch 22, CIFAR-10 Batch 1:  Current loss is : 0.009194.    Validation accuracy is : 73.70%\n",
      "Epoch 22, CIFAR-10 Batch 2:  Current loss is : 0.012485.    Validation accuracy is : 75.08%\n",
      "Epoch 22, CIFAR-10 Batch 3:  Current loss is : 0.003167.    Validation accuracy is : 75.08%\n",
      "Epoch 22, CIFAR-10 Batch 4:  Current loss is : 0.035545.    Validation accuracy is : 72.26%\n",
      "Epoch 22, CIFAR-10 Batch 5:  Current loss is : 0.008158.    Validation accuracy is : 74.80%\n",
      "Epoch 23, CIFAR-10 Batch 1:  Current loss is : 0.014876.    Validation accuracy is : 73.62%\n",
      "Epoch 23, CIFAR-10 Batch 2:  Current loss is : 0.014290.    Validation accuracy is : 74.90%\n",
      "Epoch 23, CIFAR-10 Batch 3:  Current loss is : 0.003327.    Validation accuracy is : 75.50%\n",
      "Epoch 23, CIFAR-10 Batch 4:  Current loss is : 0.015583.    Validation accuracy is : 73.86%\n",
      "Epoch 23, CIFAR-10 Batch 5:  Current loss is : 0.002828.    Validation accuracy is : 75.76%\n",
      "Epoch 24, CIFAR-10 Batch 1:  Current loss is : 0.013936.    Validation accuracy is : 74.38%\n",
      "Epoch 24, CIFAR-10 Batch 2:  Current loss is : 0.004350.    Validation accuracy is : 74.36%\n",
      "Epoch 24, CIFAR-10 Batch 3:  Current loss is : 0.030056.    Validation accuracy is : 75.88%\n",
      "Epoch 24, CIFAR-10 Batch 4:  Current loss is : 0.004842.    Validation accuracy is : 74.12%\n",
      "Epoch 24, CIFAR-10 Batch 5:  Current loss is : 0.004415.    Validation accuracy is : 74.90%\n",
      "Epoch 25, CIFAR-10 Batch 1:  Current loss is : 0.006981.    Validation accuracy is : 75.12%\n",
      "Epoch 25, CIFAR-10 Batch 2:  Current loss is : 0.002421.    Validation accuracy is : 74.76%\n",
      "Epoch 25, CIFAR-10 Batch 3:  Current loss is : 0.003067.    Validation accuracy is : 75.62%\n",
      "Epoch 25, CIFAR-10 Batch 4:  Current loss is : 0.004721.    Validation accuracy is : 75.20%\n",
      "Epoch 25, CIFAR-10 Batch 5:  Current loss is : 0.013362.    Validation accuracy is : 74.60%\n",
      "Epoch 26, CIFAR-10 Batch 1:  Current loss is : 0.005553.    Validation accuracy is : 74.48%\n",
      "Epoch 26, CIFAR-10 Batch 2:  Current loss is : 0.002659.    Validation accuracy is : 74.64%\n",
      "Epoch 26, CIFAR-10 Batch 3:  Current loss is : 0.003822.    Validation accuracy is : 75.22%\n",
      "Epoch 26, CIFAR-10 Batch 4:  Current loss is : 0.003282.    Validation accuracy is : 73.34%\n",
      "Epoch 26, CIFAR-10 Batch 5:  Current loss is : 0.004179.    Validation accuracy is : 75.44%\n",
      "Epoch 27, CIFAR-10 Batch 1:  Current loss is : 0.009835.    Validation accuracy is : 73.92%\n",
      "Epoch 27, CIFAR-10 Batch 2:  Current loss is : 0.003185.    Validation accuracy is : 74.80%\n",
      "Epoch 27, CIFAR-10 Batch 3:  Current loss is : 0.000803.    Validation accuracy is : 75.36%\n",
      "Epoch 27, CIFAR-10 Batch 4:  Current loss is : 0.003087.    Validation accuracy is : 73.34%\n",
      "Epoch 27, CIFAR-10 Batch 5:  Current loss is : 0.003647.    Validation accuracy is : 74.42%\n",
      "Epoch 28, CIFAR-10 Batch 1:  Current loss is : 0.004674.    Validation accuracy is : 73.90%\n",
      "Epoch 28, CIFAR-10 Batch 2:  Current loss is : 0.002449.    Validation accuracy is : 75.12%\n",
      "Epoch 28, CIFAR-10 Batch 3:  Current loss is : 0.002198.    Validation accuracy is : 75.94%\n",
      "Epoch 28, CIFAR-10 Batch 4:  Current loss is : 0.013824.    Validation accuracy is : 73.32%\n",
      "Epoch 28, CIFAR-10 Batch 5:  Current loss is : 0.001396.    Validation accuracy is : 76.36%\n",
      "Epoch 29, CIFAR-10 Batch 1:  Current loss is : 0.004103.    Validation accuracy is : 73.34%\n",
      "Epoch 29, CIFAR-10 Batch 2:  Current loss is : 0.002380.    Validation accuracy is : 75.44%\n",
      "Epoch 29, CIFAR-10 Batch 3:  Current loss is : 0.010763.    Validation accuracy is : 75.34%\n",
      "Epoch 29, CIFAR-10 Batch 4:  Current loss is : 0.010557.    Validation accuracy is : 74.18%\n",
      "Epoch 29, CIFAR-10 Batch 5:  Current loss is : 0.006100.    Validation accuracy is : 75.24%\n",
      "Epoch 30, CIFAR-10 Batch 1:  Current loss is : 0.003889.    Validation accuracy is : 75.16%\n",
      "Epoch 30, CIFAR-10 Batch 2:  Current loss is : 0.004508.    Validation accuracy is : 75.30%\n",
      "Epoch 30, CIFAR-10 Batch 3:  Current loss is : 0.000784.    Validation accuracy is : 75.52%\n",
      "Epoch 30, CIFAR-10 Batch 4:  Current loss is : 0.004432.    Validation accuracy is : 74.02%\n",
      "Epoch 30, CIFAR-10 Batch 5:  Current loss is : 0.002691.    Validation accuracy is : 75.26%\n",
      "Epoch 31, CIFAR-10 Batch 1:  Current loss is : 0.002212.    Validation accuracy is : 74.44%\n",
      "Epoch 31, CIFAR-10 Batch 2:  Current loss is : 0.002127.    Validation accuracy is : 76.24%\n",
      "Epoch 31, CIFAR-10 Batch 3:  Current loss is : 0.000634.    Validation accuracy is : 76.42%\n",
      "Epoch 31, CIFAR-10 Batch 4:  Current loss is : 0.004183.    Validation accuracy is : 74.62%\n",
      "Epoch 31, CIFAR-10 Batch 5:  Current loss is : 0.002791.    Validation accuracy is : 74.88%\n",
      "Epoch 32, CIFAR-10 Batch 1:  Current loss is : 0.001604.    Validation accuracy is : 75.26%\n",
      "Epoch 32, CIFAR-10 Batch 2:  Current loss is : 0.000630.    Validation accuracy is : 74.84%\n",
      "Epoch 32, CIFAR-10 Batch 3:  Current loss is : 0.000631.    Validation accuracy is : 75.90%\n",
      "Epoch 32, CIFAR-10 Batch 4:  Current loss is : 0.003401.    Validation accuracy is : 74.44%\n",
      "Epoch 32, CIFAR-10 Batch 5:  Current loss is : 0.002258.    Validation accuracy is : 75.28%\n",
      "Epoch 33, CIFAR-10 Batch 1:  Current loss is : 0.005655.    Validation accuracy is : 73.00%\n",
      "Epoch 33, CIFAR-10 Batch 2:  Current loss is : 0.001244.    Validation accuracy is : 75.62%\n",
      "Epoch 33, CIFAR-10 Batch 3:  Current loss is : 0.001065.    Validation accuracy is : 76.14%\n",
      "Epoch 33, CIFAR-10 Batch 4:  Current loss is : 0.004110.    Validation accuracy is : 75.30%\n",
      "Epoch 33, CIFAR-10 Batch 5:  Current loss is : 0.007732.    Validation accuracy is : 76.16%\n",
      "Epoch 34, CIFAR-10 Batch 1:  Current loss is : 0.001457.    Validation accuracy is : 75.34%\n",
      "Epoch 34, CIFAR-10 Batch 2:  Current loss is : 0.001254.    Validation accuracy is : 76.12%\n",
      "Epoch 34, CIFAR-10 Batch 3:  Current loss is : 0.000580.    Validation accuracy is : 75.80%\n",
      "Epoch 34, CIFAR-10 Batch 4:  Current loss is : 0.002529.    Validation accuracy is : 74.24%\n",
      "Epoch 34, CIFAR-10 Batch 5:  Current loss is : 0.001613.    Validation accuracy is : 75.94%\n",
      "Epoch 35, CIFAR-10 Batch 1:  Current loss is : 0.001890.    Validation accuracy is : 73.60%\n",
      "Epoch 35, CIFAR-10 Batch 2:  Current loss is : 0.002344.    Validation accuracy is : 74.32%\n",
      "Epoch 35, CIFAR-10 Batch 3:  Current loss is : 0.000720.    Validation accuracy is : 75.64%\n",
      "Epoch 35, CIFAR-10 Batch 4:  Current loss is : 0.002716.    Validation accuracy is : 74.84%\n",
      "Epoch 35, CIFAR-10 Batch 5:  Current loss is : 0.002235.    Validation accuracy is : 76.06%\n",
      "Epoch 36, CIFAR-10 Batch 1:  Current loss is : 0.001890.    Validation accuracy is : 75.14%\n",
      "Epoch 36, CIFAR-10 Batch 2:  Current loss is : 0.000168.    Validation accuracy is : 75.94%\n",
      "Epoch 36, CIFAR-10 Batch 3:  Current loss is : 0.000517.    Validation accuracy is : 75.22%\n",
      "Epoch 36, CIFAR-10 Batch 4:  Current loss is : 0.000891.    Validation accuracy is : 75.04%\n",
      "Epoch 36, CIFAR-10 Batch 5:  Current loss is : 0.001103.    Validation accuracy is : 75.54%\n",
      "Epoch 37, CIFAR-10 Batch 1:  Current loss is : 0.001570.    Validation accuracy is : 74.70%\n",
      "Epoch 37, CIFAR-10 Batch 2:  Current loss is : 0.000924.    Validation accuracy is : 76.48%\n",
      "Epoch 37, CIFAR-10 Batch 3:  Current loss is : 0.000169.    Validation accuracy is : 76.08%\n",
      "Epoch 37, CIFAR-10 Batch 4:  Current loss is : 0.000578.    Validation accuracy is : 74.26%\n",
      "Epoch 37, CIFAR-10 Batch 5:  Current loss is : 0.000756.    Validation accuracy is : 75.78%\n",
      "Epoch 38, CIFAR-10 Batch 1:  Current loss is : 0.001043.    Validation accuracy is : 75.48%\n",
      "Epoch 38, CIFAR-10 Batch 2:  Current loss is : 0.002250.    Validation accuracy is : 76.30%\n",
      "Epoch 38, CIFAR-10 Batch 3:  Current loss is : 0.001772.    Validation accuracy is : 75.58%\n",
      "Epoch 38, CIFAR-10 Batch 4:  Current loss is : 0.002778.    Validation accuracy is : 74.50%\n",
      "Epoch 38, CIFAR-10 Batch 5:  Current loss is : 0.002264.    Validation accuracy is : 74.28%\n",
      "Epoch 39, CIFAR-10 Batch 1:  Current loss is : 0.001846.    Validation accuracy is : 74.54%\n",
      "Epoch 39, CIFAR-10 Batch 2:  Current loss is : 0.002204.    Validation accuracy is : 75.80%\n",
      "Epoch 39, CIFAR-10 Batch 3:  Current loss is : 0.000423.    Validation accuracy is : 76.58%\n",
      "Epoch 39, CIFAR-10 Batch 4:  Current loss is : 0.000459.    Validation accuracy is : 76.34%\n",
      "Epoch 39, CIFAR-10 Batch 5:  Current loss is : 0.001184.    Validation accuracy is : 75.10%\n",
      "Epoch 40, CIFAR-10 Batch 1:  Current loss is : 0.000779.    Validation accuracy is : 75.32%\n",
      "Epoch 40, CIFAR-10 Batch 2:  Current loss is : 0.000565.    Validation accuracy is : 75.38%\n",
      "Epoch 40, CIFAR-10 Batch 3:  Current loss is : 0.000191.    Validation accuracy is : 75.68%\n",
      "Epoch 40, CIFAR-10 Batch 4:  Current loss is : 0.001182.    Validation accuracy is : 75.98%\n",
      "Epoch 40, CIFAR-10 Batch 5:  Current loss is : 0.003645.    Validation accuracy is : 74.26%\n",
      "Epoch 41, CIFAR-10 Batch 1:  Current loss is : 0.001431.    Validation accuracy is : 75.34%\n",
      "Epoch 41, CIFAR-10 Batch 2:  Current loss is : 0.000748.    Validation accuracy is : 76.28%\n",
      "Epoch 41, CIFAR-10 Batch 3:  Current loss is : 0.000704.    Validation accuracy is : 75.76%\n",
      "Epoch 41, CIFAR-10 Batch 4:  Current loss is : 0.000493.    Validation accuracy is : 76.38%\n",
      "Epoch 41, CIFAR-10 Batch 5:  Current loss is : 0.001080.    Validation accuracy is : 75.76%\n",
      "Epoch 42, CIFAR-10 Batch 1:  Current loss is : 0.000399.    Validation accuracy is : 75.02%\n",
      "Epoch 42, CIFAR-10 Batch 2:  Current loss is : 0.001729.    Validation accuracy is : 74.34%\n",
      "Epoch 42, CIFAR-10 Batch 3:  Current loss is : 0.000116.    Validation accuracy is : 75.60%\n",
      "Epoch 42, CIFAR-10 Batch 4:  Current loss is : 0.000929.    Validation accuracy is : 76.50%\n",
      "Epoch 42, CIFAR-10 Batch 5:  Current loss is : 0.062436.    Validation accuracy is : 74.18%\n",
      "Epoch 43, CIFAR-10 Batch 1:  Current loss is : 0.001931.    Validation accuracy is : 74.98%\n",
      "Epoch 43, CIFAR-10 Batch 2:  Current loss is : 0.001094.    Validation accuracy is : 75.60%\n",
      "Epoch 43, CIFAR-10 Batch 3:  Current loss is : 0.000181.    Validation accuracy is : 75.68%\n",
      "Epoch 43, CIFAR-10 Batch 4:  Current loss is : 0.000398.    Validation accuracy is : 76.00%\n",
      "Epoch 43, CIFAR-10 Batch 5:  Current loss is : 0.003139.    Validation accuracy is : 74.88%\n",
      "Epoch 44, CIFAR-10 Batch 1:  Current loss is : 0.001690.    Validation accuracy is : 75.68%\n",
      "Epoch 44, CIFAR-10 Batch 2:  Current loss is : 0.001245.    Validation accuracy is : 76.00%\n",
      "Epoch 44, CIFAR-10 Batch 3:  Current loss is : 0.000205.    Validation accuracy is : 75.40%\n",
      "Epoch 44, CIFAR-10 Batch 4:  Current loss is : 0.001054.    Validation accuracy is : 75.46%\n",
      "Epoch 44, CIFAR-10 Batch 5:  Current loss is : 0.000880.    Validation accuracy is : 76.12%\n",
      "Epoch 45, CIFAR-10 Batch 1:  Current loss is : 0.000918.    Validation accuracy is : 75.48%\n",
      "Epoch 45, CIFAR-10 Batch 2:  Current loss is : 0.000193.    Validation accuracy is : 76.24%\n",
      "Epoch 45, CIFAR-10 Batch 3:  Current loss is : 0.000367.    Validation accuracy is : 75.92%\n",
      "Epoch 45, CIFAR-10 Batch 4:  Current loss is : 0.001555.    Validation accuracy is : 75.70%\n",
      "Epoch 45, CIFAR-10 Batch 5:  Current loss is : 0.000894.    Validation accuracy is : 74.94%\n",
      "Epoch 46, CIFAR-10 Batch 1:  Current loss is : 0.001096.    Validation accuracy is : 74.98%\n",
      "Epoch 46, CIFAR-10 Batch 2:  Current loss is : 0.000681.    Validation accuracy is : 75.38%\n",
      "Epoch 46, CIFAR-10 Batch 3:  Current loss is : 0.003454.    Validation accuracy is : 75.50%\n",
      "Epoch 46, CIFAR-10 Batch 4:  Current loss is : 0.000633.    Validation accuracy is : 75.40%\n",
      "Epoch 46, CIFAR-10 Batch 5:  Current loss is : 0.001810.    Validation accuracy is : 75.72%\n",
      "Epoch 47, CIFAR-10 Batch 1:  Current loss is : 0.000682.    Validation accuracy is : 74.96%\n",
      "Epoch 47, CIFAR-10 Batch 2:  Current loss is : 0.000715.    Validation accuracy is : 76.34%\n",
      "Epoch 47, CIFAR-10 Batch 3:  Current loss is : 0.001416.    Validation accuracy is : 76.06%\n",
      "Epoch 47, CIFAR-10 Batch 4:  Current loss is : 0.000196.    Validation accuracy is : 75.30%\n",
      "Epoch 47, CIFAR-10 Batch 5:  Current loss is : 0.003891.    Validation accuracy is : 73.34%\n",
      "Epoch 48, CIFAR-10 Batch 1:  Current loss is : 0.000793.    Validation accuracy is : 75.42%\n",
      "Epoch 48, CIFAR-10 Batch 2:  Current loss is : 0.001952.    Validation accuracy is : 76.16%\n",
      "Epoch 48, CIFAR-10 Batch 3:  Current loss is : 0.000203.    Validation accuracy is : 75.50%\n",
      "Epoch 48, CIFAR-10 Batch 4:  Current loss is : 0.000207.    Validation accuracy is : 76.60%\n",
      "Epoch 48, CIFAR-10 Batch 5:  Current loss is : 0.000349.    Validation accuracy is : 76.14%\n",
      "Epoch 49, CIFAR-10 Batch 1:  Current loss is : 0.002444.    Validation accuracy is : 75.46%\n",
      "Epoch 49, CIFAR-10 Batch 2:  Current loss is : 0.001002.    Validation accuracy is : 74.82%\n",
      "Epoch 49, CIFAR-10 Batch 3:  Current loss is : 0.000127.    Validation accuracy is : 75.58%\n",
      "Epoch 49, CIFAR-10 Batch 4:  Current loss is : 0.000367.    Validation accuracy is : 75.66%\n",
      "Epoch 49, CIFAR-10 Batch 5:  Current loss is : 0.000856.    Validation accuracy is : 75.80%\n",
      "Epoch 50, CIFAR-10 Batch 1:  Current loss is : 0.002338.    Validation accuracy is : 73.66%\n",
      "Epoch 50, CIFAR-10 Batch 2:  Current loss is : 0.000235.    Validation accuracy is : 75.42%\n",
      "Epoch 50, CIFAR-10 Batch 3:  Current loss is : 0.000118.    Validation accuracy is : 76.06%\n",
      "Epoch 50, CIFAR-10 Batch 4:  Current loss is : 0.000149.    Validation accuracy is : 76.34%\n",
      "Epoch 50, CIFAR-10 Batch 5:  Current loss is : 0.000538.    Validation accuracy is : 76.54%\n"
     ]
    }
   ],
   "source": [
    "\"\"\"\n",
    "DON'T MODIFY ANYTHING IN THIS CELL\n",
    "\"\"\"\n",
    "save_model_path = './image_classification'\n",
    "\n",
    "print('Training...')\n",
    "with tf.Session() as sess:\n",
    "    # Initializing the variables\n",
    "    sess.run(tf.global_variables_initializer())\n",
    "    \n",
    "    # Training cycle\n",
    "    for epoch in range(epochs):\n",
    "        # Loop over all batches\n",
    "        n_batches = 5\n",
    "        for batch_i in range(1, n_batches + 1):\n",
    "            for batch_features, batch_labels in helper.load_preprocess_training_batch(batch_i, batch_size):\n",
    "                train_neural_network(sess, optimizer, keep_probability, batch_features, batch_labels)\n",
    "            print('Epoch {:>2}, CIFAR-10 Batch {}:  '.format(epoch + 1, batch_i), end='')\n",
    "            print_stats(sess, batch_features, batch_labels, cost, accuracy)\n",
    "            \n",
    "    # Save Model\n",
    "    saver = tf.train.Saver()\n",
    "    save_path = saver.save(sess, save_model_path)"
   ]
  },
  {
   "cell_type": "markdown",
   "metadata": {},
   "source": [
    "# Checkpoint\n",
    "The model has been saved to disk.\n",
    "## Test Model\n",
    "Test your model against the test dataset.  This will be your final accuracy. You should have an accuracy greater than 50%. If you don't, keep tweaking the model architecture and parameters."
   ]
  },
  {
   "cell_type": "code",
   "execution_count": 21,
   "metadata": {
    "collapsed": false
   },
   "outputs": [
    {
     "name": "stdout",
     "output_type": "stream",
     "text": [
      "Testing Accuracy: 0.7508900316455697\n",
      "\n"
     ]
    },
    {
     "data": {
      "image/png": "[encoded data removed]",
      "text/plain": [
       "<matplotlib.figure.Figure at 0x11aafabe0>"
      ]
     },
     "metadata": {
      "image/png": {
       "height": 319,
       "width": 355
      }
     },
     "output_type": "display_data"
    }
   ],
   "source": [
    "\"\"\"\n",
    "DON'T MODIFY ANYTHING IN THIS CELL\n",
    "\"\"\"\n",
    "%matplotlib inline\n",
    "%config InlineBackend.figure_format = 'retina'\n",
    "\n",
    "import tensorflow as tf\n",
    "import pickle\n",
    "import helper\n",
    "import random\n",
    "\n",
    "# Set batch size if not already set\n",
    "try:\n",
    "    if batch_size:\n",
    "        pass\n",
    "except NameError:\n",
    "    batch_size = 64\n",
    "\n",
    "save_model_path = './image_classification'\n",
    "n_samples = 4\n",
    "top_n_predictions = 3\n",
    "\n",
    "def test_model():\n",
    "    \"\"\"\n",
    "    Test the saved model against the test dataset\n",
    "    \"\"\"\n",
    "\n",
    "    test_features, test_labels = pickle.load(open('preprocess_training.p', mode='rb'))\n",
    "    loaded_graph = tf.Graph()\n",
    "\n",
    "    with tf.Session(graph=loaded_graph) as sess:\n",
    "        # Load model\n",
    "        loader = tf.train.import_meta_graph(save_model_path + '.meta')\n",
    "        loader.restore(sess, save_model_path)\n",
    "\n",
    "        # Get Tensors from loaded model\n",
    "        loaded_x = loaded_graph.get_tensor_by_name('x:0')\n",
    "        loaded_y = loaded_graph.get_tensor_by_name('y:0')\n",
    "        loaded_keep_prob = loaded_graph.get_tensor_by_name('keep_prob:0')\n",
    "        loaded_logits = loaded_graph.get_tensor_by_name('logits:0')\n",
    "        loaded_acc = loaded_graph.get_tensor_by_name('accuracy:0')\n",
    "        \n",
    "        # Get accuracy in batches for memory limitations\n",
    "        test_batch_acc_total = 0\n",
    "        test_batch_count = 0\n",
    "        \n",
    "        for train_feature_batch, train_label_batch in helper.batch_features_labels(test_features, test_labels, batch_size):\n",
    "            test_batch_acc_total += sess.run(\n",
    "                loaded_acc,\n",
    "                feed_dict={loaded_x: train_feature_batch, loaded_y: train_label_batch, loaded_keep_prob: 1.0})\n",
    "            test_batch_count += 1\n",
    "\n",
    "        print('Testing Accuracy: {}\\n'.format(test_batch_acc_total/test_batch_count))\n",
    "\n",
    "        # Print Random Samples\n",
    "        random_test_features, random_test_labels = tuple(zip(*random.sample(list(zip(test_features, test_labels)), n_samples)))\n",
    "        random_test_predictions = sess.run(\n",
    "            tf.nn.top_k(tf.nn.softmax(loaded_logits), top_n_predictions),\n",
    "            feed_dict={loaded_x: random_test_features, loaded_y: random_test_labels, loaded_keep_prob: 1.0})\n",
    "        helper.display_image_predictions(random_test_features, random_test_labels, random_test_predictions)\n",
    "\n",
    "\n",
    "test_model()"
   ]
  },
  {
   "cell_type": "markdown",
   "metadata": {},
   "source": [
    "## Why 50-80% Accuracy?\n",
    "You might be wondering why you can't get an accuracy any higher. First things first, 50% isn't bad for a simple CNN.  Pure guessing would get you 10% accuracy. However, you might notice people are getting scores [well above 80%](http://rodrigob.github.io/are_we_there_yet/build/classification_datasets_results.html#43494641522d3130).  That's because we haven't taught you all there is to know about neural networks. We still need to cover a few more techniques.\n",
    "## Submitting This Project\n",
    "When submitting this project, make sure to run all the cells before saving the notebook.  Save the notebook file as \"dlnd_image_classification.ipynb\" and save it as a HTML file under \"File\" -> \"Download as\".  Include the \"helper.py\" and \"problem_unittests.py\" files in your submission."
   ]
  }
 ],
 "metadata": {
  "kernelspec": {
   "display_name": "Python 3",
   "language": "python",
   "name": "python3"
  },
  "language_info": {
   "codemirror_mode": {
    "name": "ipython",
    "version": 3
   },
   "file_extension": ".py",
   "mimetype": "text/x-python",
   "name": "python",
   "nbconvert_exporter": "python",
   "pygments_lexer": "ipython3",
   "version": "3.5.3"
  }
 },
 "nbformat": 4,
 "nbformat_minor": 0
}
