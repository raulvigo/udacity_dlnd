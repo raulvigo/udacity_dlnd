{
 "cells": [
  {
   "cell_type": "markdown",
   "metadata": {
    "collapsed": true
   },
   "source": [
    "# Image Classification\n",
    "In this project, you'll classify images from the [CIFAR-10 dataset](https://www.cs.toronto.edu/~kriz/cifar.html).  The dataset consists of airplanes, dogs, cats, and other objects. You'll preprocess the images, then train a convolutional neural network on all the samples. The images need to be normalized and the labels need to be one-hot encoded.  You'll get to apply what you learned and build a convolutional, max pooling, dropout, and fully connected layers.  At the end, you'll get to see your neural network's predictions on the sample images.\n",
    "## Get the Data\n",
    "Run the following cell to download the [CIFAR-10 dataset for python](https://www.cs.toronto.edu/~kriz/cifar-10-python.tar.gz)."
   ]
  },
  {
   "cell_type": "code",
   "execution_count": 1,
   "metadata": {
    "collapsed": false
   },
   "outputs": [
    {
     "name": "stderr",
     "output_type": "stream",
     "text": [
      "CIFAR-10 Dataset: 171MB [00:59, 2.88MB/s]                               \n"
     ]
    },
    {
     "name": "stdout",
     "output_type": "stream",
     "text": [
      "All files found!\n"
     ]
    }
   ],
   "source": [
    "\"\"\"\n",
    "DON'T MODIFY ANYTHING IN THIS CELL THAT IS BELOW THIS LINE\n",
    "\"\"\"\n",
    "from urllib.request import urlretrieve\n",
    "from os.path import isfile, isdir\n",
    "from tqdm import tqdm\n",
    "import problem_unittests as tests\n",
    "import tarfile\n",
    "\n",
    "cifar10_dataset_folder_path = 'cifar-10-batches-py'\n",
    "\n",
    "class DLProgress(tqdm):\n",
    "    last_block = 0\n",
    "\n",
    "    def hook(self, block_num=1, block_size=1, total_size=None):\n",
    "        self.total = total_size\n",
    "        self.update((block_num - self.last_block) * block_size)\n",
    "        self.last_block = block_num\n",
    "\n",
    "if not isfile('cifar-10-python.tar.gz'):\n",
    "    with DLProgress(unit='B', unit_scale=True, miniters=1, desc='CIFAR-10 Dataset') as pbar:\n",
    "        urlretrieve(\n",
    "            'https://www.cs.toronto.edu/~kriz/cifar-10-python.tar.gz',\n",
    "            'cifar-10-python.tar.gz',\n",
    "            pbar.hook)\n",
    "\n",
    "if not isdir(cifar10_dataset_folder_path):\n",
    "    with tarfile.open('cifar-10-python.tar.gz') as tar:\n",
    "        tar.extractall()\n",
    "        tar.close()\n",
    "\n",
    "\n",
    "tests.test_folder_path(cifar10_dataset_folder_path)"
   ]
  },
  {
   "cell_type": "markdown",
   "metadata": {},
   "source": [
    "## Explore the Data\n",
    "The dataset is broken into batches to prevent your machine from running out of memory.  The CIFAR-10 dataset consists of 5 batches, named `data_batch_1`, `data_batch_2`, etc.. Each batch contains the labels and images that are one of the following:\n",
    "* airplane\n",
    "* automobile\n",
    "* bird\n",
    "* cat\n",
    "* deer\n",
    "* dog\n",
    "* frog\n",
    "* horse\n",
    "* ship\n",
    "* truck\n",
    "\n",
    "Understanding a dataset is part of making predictions on the data.  Play around with the code cell below by changing the `batch_id` and `sample_id`. The `batch_id` is the id for a batch (1-5). The `sample_id` is the id for a image and label pair in the batch.\n",
    "\n",
    "Ask yourself \"What are all possible labels?\", \"What is the range of values for the image data?\", \"Are the labels in order or random?\".  Answers to questions like these will help you preprocess the data and end up with better predictions."
   ]
  },
  {
   "cell_type": "code",
   "execution_count": 2,
   "metadata": {
    "collapsed": false
   },
   "outputs": [
    {
     "name": "stdout",
     "output_type": "stream",
     "text": [
      "\n",
      "Stats of batch 1:\n",
      "Samples: 10000\n",
      "Label Counts: {0: 1005, 1: 974, 2: 1032, 3: 1016, 4: 999, 5: 937, 6: 1030, 7: 1001, 8: 1025, 9: 981}\n",
      "First 20 Labels: [6, 9, 9, 4, 1, 1, 2, 7, 8, 3, 4, 7, 7, 2, 9, 9, 9, 3, 2, 6]\n",
      "\n",
      "Example of Image 5:\n",
      "Image - Min Value: 0 Max Value: 252\n",
      "Image - Shape: (32, 32, 3)\n",
      "Label - Label Id: 1 Name: automobile\n"
     ]
    },
    {
     "data": {
      "image/png": "[encoded data removed]",
      "text/plain": [
       "<matplotlib.figure.Figure at 0x11b8ddfd0>"
      ]
     },
     "metadata": {
      "image/png": {
       "height": 250,
       "width": 253
      }
     },
     "output_type": "display_data"
    }
   ],
   "source": [
    "%matplotlib inline\n",
    "%config InlineBackend.figure_format = 'retina'\n",
    "\n",
    "import helper\n",
    "import numpy as np\n",
    "\n",
    "# Explore the dataset\n",
    "batch_id = 1\n",
    "sample_id = 15\n",
    "helper.display_stats(cifar10_dataset_folder_path, batch_id, sample_id)"
   ]
  },
  {
   "cell_type": "markdown",
   "metadata": {},
   "source": [
    "## Implement Preprocess Functions\n",
    "### Normalize\n",
    "In the cell below, implement the `normalize` function to take in image data, `x`, and return it as a normalized Numpy array. The values should be in the range of 0 to 1, inclusive.  The return object should be the same shape as `x`."
   ]
  },
  {
   "cell_type": "code",
   "execution_count": 3,
   "metadata": {
    "collapsed": false
   },
   "outputs": [
    {
     "name": "stdout",
     "output_type": "stream",
     "text": [
      "Tests Passed\n"
     ]
    }
   ],
   "source": [
    "def normalize(x):\n",
    "    \"\"\"\n",
    "    Normalize a list of sample image data in the range of 0 to 1\n",
    "    : x: List of image data.  The image shape is (32, 32, 3)\n",
    "    : return: Numpy array of normalize data\n",
    "    \"\"\"\n",
    "    x_normalized = np.array(x/255)\n",
    "    return x_normalized\n",
    "\n",
    "\n",
    "\"\"\"\n",
    "DON'T MODIFY ANYTHING IN THIS CELL THAT IS BELOW THIS LINE\n",
    "\"\"\"\n",
    "tests.test_normalize(normalize)"
   ]
  },
  {
   "cell_type": "markdown",
   "metadata": {},
   "source": [
    "### One-hot encode\n",
    "Just like the previous code cell, you'll be implementing a function for preprocessing.  This time, you'll implement the `one_hot_encode` function. The input, `x`, are a list of labels.  Implement the function to return the list of labels as One-Hot encoded Numpy array.  The possible values for labels are 0 to 9. The one-hot encoding function should return the same encoding for each value between each call to `one_hot_encode`.  Make sure to save the map of encodings outside the function.\n",
    "\n",
    "Hint: Don't reinvent the wheel."
   ]
  },
  {
   "cell_type": "code",
   "execution_count": 4,
   "metadata": {
    "collapsed": false
   },
   "outputs": [
    {
     "name": "stdout",
     "output_type": "stream",
     "text": [
      "Tests Passed\n"
     ]
    }
   ],
   "source": [
    "def one_hot_encode(x):\n",
    "    \"\"\"\n",
    "    One hot encode a list of sample labels. Return a one-hot encoded vector for each label.\n",
    "    : x: List of sample Labels\n",
    "    : return: Numpy array of one-hot encoded labels\n",
    "    \"\"\"\n",
    "    x_onehot = np.zeros((len(x),10))\n",
    "    for indice in range(len(x)):\n",
    "        label = x[indice]\n",
    "        x_onehot[indice][label] = 1\n",
    "    return x_onehot\n",
    "\n",
    "\"\"\"\n",
    "DON'T MODIFY ANYTHING IN THIS CELL THAT IS BELOW THIS LINE\n",
    "\"\"\"\n",
    "tests.test_one_hot_encode(one_hot_encode)"
   ]
  },
  {
   "cell_type": "markdown",
   "metadata": {},
   "source": [
    "### Randomize Data\n",
    "As you saw from exploring the data above, the order of the samples are randomized.  It doesn't hurt to randomize it again, but you don't need to for this dataset."
   ]
  },
  {
   "cell_type": "markdown",
   "metadata": {},
   "source": [
    "## Preprocess all the data and save it\n",
    "Running the code cell below will preprocess all the CIFAR-10 data and save it to file. The code below also uses 10% of the training data for validation."
   ]
  },
  {
   "cell_type": "code",
   "execution_count": 5,
   "metadata": {
    "collapsed": false
   },
   "outputs": [],
   "source": [
    "\"\"\"\n",
    "DON'T MODIFY ANYTHING IN THIS CELL\n",
    "\"\"\"\n",
    "# Preprocess Training, Validation, and Testing Data\n",
    "helper.preprocess_and_save_data(cifar10_dataset_folder_path, normalize, one_hot_encode)"
   ]
  },
  {
   "cell_type": "markdown",
   "metadata": {},
   "source": [
    "# Check Point\n",
    "This is your first checkpoint.  If you ever decide to come back to this notebook or have to restart the notebook, you can start from here.  The preprocessed data has been saved to disk."
   ]
  },
  {
   "cell_type": "code",
   "execution_count": 6,
   "metadata": {
    "collapsed": true
   },
   "outputs": [],
   "source": [
    "\"\"\"\n",
    "DON'T MODIFY ANYTHING IN THIS CELL\n",
    "\"\"\"\n",
    "import pickle\n",
    "import problem_unittests as tests\n",
    "import helper\n",
    "\n",
    "# Load the Preprocessed Validation data\n",
    "valid_features, valid_labels = pickle.load(open('preprocess_validation.p', mode='rb'))"
   ]
  },
  {
   "cell_type": "markdown",
   "metadata": {},
   "source": [
    "## Build the network\n",
    "For the neural network, you'll build each layer into a function.  Most of the code you've seen has been outside of functions. To test your code more thoroughly, we require that you put each layer in a function.  This allows us to give you better feedback and test for simple mistakes using our unittests before you submit your project.\n",
    "\n",
    ">**Note:** If you're finding it hard to dedicate enough time for this course each week, we've provided a small shortcut to this part of the project. In the next couple of problems, you'll have the option to use classes from the [TensorFlow Layers](https://www.tensorflow.org/api_docs/python/tf/layers) or [TensorFlow Layers (contrib)](https://www.tensorflow.org/api_guides/python/contrib.layers) packages to build each layer, except the layers you build in the \"Convolutional and Max Pooling Layer\" section.  TF Layers is similar to Keras's and TFLearn's abstraction to layers, so it's easy to pickup.\n",
    "\n",
    ">However, if you would like to get the most out of this course, try to solve all the problems _without_ using anything from the TF Layers packages. You **can** still use classes from other packages that happen to have the same name as ones you find in TF Layers! For example, instead of using the TF Layers version of the `conv2d` class, [tf.layers.conv2d](https://www.tensorflow.org/api_docs/python/tf/layers/conv2d), you would want to use the TF Neural Network version of `conv2d`, [tf.nn.conv2d](https://www.tensorflow.org/api_docs/python/tf/nn/conv2d). \n",
    "\n",
    "Let's begin!\n",
    "\n",
    "### Input\n",
    "The neural network needs to read the image data, one-hot encoded labels, and dropout keep probability. Implement the following functions\n",
    "* Implement `neural_net_image_input`\n",
    " * Return a [TF Placeholder](https://www.tensorflow.org/api_docs/python/tf/placeholder)\n",
    " * Set the shape using `image_shape` with batch size set to `None`.\n",
    " * Name the TensorFlow placeholder \"x\" using the TensorFlow `name` parameter in the [TF Placeholder](https://www.tensorflow.org/api_docs/python/tf/placeholder).\n",
    "* Implement `neural_net_label_input`\n",
    " * Return a [TF Placeholder](https://www.tensorflow.org/api_docs/python/tf/placeholder)\n",
    " * Set the shape using `n_classes` with batch size set to `None`.\n",
    " * Name the TensorFlow placeholder \"y\" using the TensorFlow `name` parameter in the [TF Placeholder](https://www.tensorflow.org/api_docs/python/tf/placeholder).\n",
    "* Implement `neural_net_keep_prob_input`\n",
    " * Return a [TF Placeholder](https://www.tensorflow.org/api_docs/python/tf/placeholder) for dropout keep probability.\n",
    " * Name the TensorFlow placeholder \"keep_prob\" using the TensorFlow `name` parameter in the [TF Placeholder](https://www.tensorflow.org/api_docs/python/tf/placeholder).\n",
    "\n",
    "These names will be used at the end of the project to load your saved model.\n",
    "\n",
    "Note: `None` for shapes in TensorFlow allow for a dynamic size."
   ]
  },
  {
   "cell_type": "code",
   "execution_count": 7,
   "metadata": {
    "collapsed": false
   },
   "outputs": [
    {
     "name": "stdout",
     "output_type": "stream",
     "text": [
      "Image Input Tests Passed.\n",
      "Label Input Tests Passed.\n",
      "Keep Prob Tests Passed.\n"
     ]
    }
   ],
   "source": [
    "import tensorflow as tf\n",
    "\n",
    "def neural_net_image_input(image_shape):\n",
    "    \"\"\"\n",
    "    Return a Tensor for a batch of image input\n",
    "    : image_shape: Shape of the images\n",
    "    : return: Tensor for image input.\n",
    "    \"\"\"\n",
    "    return tf.placeholder(tf.float32, [None, image_shape[0],image_shape[1],image_shape[2]], name='x')\n",
    "\n",
    "def neural_net_label_input(n_classes):\n",
    "    \"\"\"\n",
    "    Return a Tensor for a batch of label input\n",
    "    : n_classes: Number of classes\n",
    "    : return: Tensor for label input.\n",
    "    \"\"\"\n",
    "    return tf.placeholder(tf.float32, [None, n_classes], name = 'y')\n",
    "\n",
    "def neural_net_keep_prob_input():\n",
    "    \"\"\"\n",
    "    Return a Tensor for keep probability\n",
    "    : return: Tensor for keep probability.\n",
    "    \"\"\"    \n",
    "    return tf.placeholder(tf.float32, name = 'keep_prob')\n",
    "\n",
    "\n",
    "\"\"\"\n",
    "DON'T MODIFY ANYTHING IN THIS CELL THAT IS BELOW THIS LINE\n",
    "\"\"\"\n",
    "tf.reset_default_graph()\n",
    "tests.test_nn_image_inputs(neural_net_image_input)\n",
    "tests.test_nn_label_inputs(neural_net_label_input)\n",
    "tests.test_nn_keep_prob_inputs(neural_net_keep_prob_input)"
   ]
  },
  {
   "cell_type": "markdown",
   "metadata": {},
   "source": [
    "### Convolution and Max Pooling Layer\n",
    "Convolution layers have a lot of success with images. For this code cell, you should implement the function `conv2d_maxpool` to apply convolution then max pooling:\n",
    "* Create the weight and bias using `conv_ksize`, `conv_num_outputs` and the shape of `x_tensor`.\n",
    "* Apply a convolution to `x_tensor` using weight and `conv_strides`.\n",
    " * We recommend you use same padding, but you're welcome to use any padding.\n",
    "* Add bias\n",
    "* Add a nonlinear activation to the convolution.\n",
    "* Apply Max Pooling using `pool_ksize` and `pool_strides`.\n",
    " * We recommend you use same padding, but you're welcome to use any padding.\n",
    "\n",
    "**Note:** You **can't** use [TensorFlow Layers](https://www.tensorflow.org/api_docs/python/tf/layers) or [TensorFlow Layers (contrib)](https://www.tensorflow.org/api_guides/python/contrib.layers) for **this** layer, but you can still use TensorFlow's [Neural Network](https://www.tensorflow.org/api_docs/python/tf/nn) package. You may still use the shortcut option for all the **other** layers."
   ]
  },
  {
   "cell_type": "code",
   "execution_count": 8,
   "metadata": {
    "collapsed": false
   },
   "outputs": [
    {
     "name": "stdout",
     "output_type": "stream",
     "text": [
      "Tests Passed\n"
     ]
    }
   ],
   "source": [
    "def conv2d_maxpool(x_tensor, conv_num_outputs, conv_ksize, conv_strides, pool_ksize, pool_strides):\n",
    "    \"\"\"\n",
    "    Apply convolution then max pooling to x_tensor\n",
    "    :param x_tensor: TensorFlow Tensor\n",
    "    :param conv_num_outputs: Number of outputs for the convolutional layer\n",
    "    :param conv_ksize: kernal size 2-D Tuple for the convolutional layer\n",
    "    :param conv_strides: Stride 2-D Tuple for convolution\n",
    "    :param pool_ksize: kernal size 2-D Tuple for pool\n",
    "    :param pool_strides: Stride 2-D Tuple for pool\n",
    "    : return: A tensor that represents convolution and max pooling of x_tensor\n",
    "    \"\"\"\n",
    "    std_deviation = 0.05 # standard deviation for the weights\n",
    "    # depth of the provided, x_tensor\n",
    "    tensor_depth = x_tensor.get_shape().as_list()[3]\n",
    "    # build up weights and biases\n",
    "    weights = tf.Variable(tf.truncated_normal([conv_ksize[0], conv_ksize[1], tensor_depth, conv_num_outputs], stddev=std_deviation))\n",
    "    biases = tf.Variable(tf.zeros(conv_num_outputs))\n",
    "    # apply convolution, add bias, non-linear activation function and max-pooling\n",
    "    x_tensor = tf.nn.conv2d(x_tensor, weights, [1, conv_strides[0], conv_strides[1], 1], padding='SAME')\n",
    "    x_tensor = tf.nn.bias_add(x_tensor, biases)\n",
    "    x_tensor = tf.nn.relu(x_tensor)  \n",
    "    x_tensor = tf.nn.max_pool(x_tensor, [1,pool_ksize[0],pool_ksize[1],1], [1,pool_strides[0],pool_strides[1],1], padding='SAME')    \n",
    "    return x_tensor\n",
    "\n",
    "\"\"\"\n",
    "DON'T MODIFY ANYTHING IN THIS CELL THAT IS BELOW THIS LINE\n",
    "\"\"\"\n",
    "tests.test_con_pool(conv2d_maxpool)"
   ]
  },
  {
   "cell_type": "markdown",
   "metadata": {},
   "source": [
    "### Flatten Layer\n",
    "Implement the `flatten` function to change the dimension of `x_tensor` from a 4-D tensor to a 2-D tensor.  The output should be the shape (*Batch Size*, *Flattened Image Size*). Shortcut option: you can use classes from the [TensorFlow Layers](https://www.tensorflow.org/api_docs/python/tf/layers) or [TensorFlow Layers (contrib)](https://www.tensorflow.org/api_guides/python/contrib.layers) packages for this layer. For more of a challenge, only use other TensorFlow packages."
   ]
  },
  {
   "cell_type": "code",
   "execution_count": 9,
   "metadata": {
    "collapsed": false
   },
   "outputs": [
    {
     "name": "stdout",
     "output_type": "stream",
     "text": [
      "Tests Passed\n"
     ]
    }
   ],
   "source": [
    "def flatten_primitives(x_tensor):\n",
    "    shape = x_tensor.get_shape().as_list()   # get the shape\n",
    "    dim = np.prod(shape[1:])                 # flatten the shape\n",
    "    shaped_tensor = tf.reshape(x_tensor, [-1, dim]) # reshape the tensor according to the flattened shape    \n",
    "    return shaped_tensor\n",
    "\n",
    "def flatten_contrib(x_tensor):\n",
    "    #print(tf.contrib.layers.flatten(x_tensor))\n",
    "    return tf.contrib.layers.flatten(x_tensor)\n",
    "\n",
    "def flatten(x_tensor):\n",
    "    \"\"\"\n",
    "    Flatten x_tensor to (Batch Size, Flattened Image Size)\n",
    "    : x_tensor: A tensor of size (Batch Size, ...), where ... are the image dimensions.\n",
    "    : return: A tensor of size (Batch Size, Flattened Image Size).\n",
    "    \"\"\"\n",
    "    #return flatten_contrib(x_tensor)\n",
    "    return flatten_primitives(x_tensor)\n",
    "\n",
    "\"\"\"\n",
    "DON'T MODIFY ANYTHING IN THIS CELL THAT IS BELOW THIS LINE\n",
    "\"\"\"\n",
    "tests.test_flatten(flatten)"
   ]
  },
  {
   "cell_type": "markdown",
   "metadata": {},
   "source": [
    "### Fully-Connected Layer\n",
    "Implement the `fully_conn` function to apply a fully connected layer to `x_tensor` with the shape (*Batch Size*, *num_outputs*). Shortcut option: you can use classes from the [TensorFlow Layers](https://www.tensorflow.org/api_docs/python/tf/layers) or [TensorFlow Layers (contrib)](https://www.tensorflow.org/api_guides/python/contrib.layers) packages for this layer. For more of a challenge, only use other TensorFlow packages."
   ]
  },
  {
   "cell_type": "code",
   "execution_count": 10,
   "metadata": {
    "collapsed": false
   },
   "outputs": [
    {
     "name": "stdout",
     "output_type": "stream",
     "text": [
      "Tests Passed\n"
     ]
    }
   ],
   "source": [
    "def fully_primitives(x_tensor, num_outputs):\n",
    "    std_deviation = 0.05 # standard deviation for the weights    \n",
    "    shape = x_tensor.get_shape().as_list()    # get the shape of x_tensor and change it to list\n",
    "    weights = tf.Variable(tf.truncated_normal([shape[1], num_outputs], stddev=std_deviation))\n",
    "    biases = tf.Variable(tf.zeros(num_outputs))    \n",
    "    return tf.add(tf.matmul(x_tensor, weights), biases)\n",
    "\n",
    "def fully_contrib(x_tensor, num_outputs):\n",
    "    return tf.contrib.layers.fully_connected(x_tensor, num_outputs, activation_fn=tf.nn.relu)\n",
    "\n",
    "def fully_conn(x_tensor, num_outputs):\n",
    "    \"\"\"\n",
    "    Apply a fully connected layer to x_tensor using weight and bias\n",
    "    : x_tensor: A 2-D tensor where the first dimension is batch size.\n",
    "    : num_outputs: The number of output that the new tensor should be.\n",
    "    : return: A 2-D tensor where the second dimension is num_outputs.\n",
    "    \"\"\"    \n",
    "    #return fully_contrib(x_tensor, num_outputs)\n",
    "    return fully_primitives(x_tensor, num_outputs)\n",
    "\n",
    "\n",
    "\"\"\"\n",
    "DON'T MODIFY ANYTHING IN THIS CELL THAT IS BELOW THIS LINE\n",
    "\"\"\"\n",
    "tests.test_fully_conn(fully_conn)"
   ]
  },
  {
   "cell_type": "markdown",
   "metadata": {},
   "source": [
    "### Output Layer\n",
    "Implement the `output` function to apply a fully connected layer to `x_tensor` with the shape (*Batch Size*, *num_outputs*). Shortcut option: you can use classes from the [TensorFlow Layers](https://www.tensorflow.org/api_docs/python/tf/layers) or [TensorFlow Layers (contrib)](https://www.tensorflow.org/api_guides/python/contrib.layers) packages for this layer. For more of a challenge, only use other TensorFlow packages.\n",
    "\n",
    "**Note:** Activation, softmax, or cross entropy should **not** be applied to this."
   ]
  },
  {
   "cell_type": "code",
   "execution_count": 11,
   "metadata": {
    "collapsed": false
   },
   "outputs": [
    {
     "name": "stdout",
     "output_type": "stream",
     "text": [
      "Tests Passed\n"
     ]
    }
   ],
   "source": [
    "def output_primitives(x_tensor, num_outputs):\n",
    "    std_deviation = 0.05 # standard deviation for the weights\n",
    "    shape = x_tensor.get_shape().as_list()    # get the shape of x_tensor and change it to list\n",
    "    weights = tf.Variable(tf.truncated_normal([shape[1], num_outputs], stddev=std_deviation))\n",
    "    biases = tf.Variable(tf.zeros(num_outputs))   \n",
    "    x_tensor = tf.add(tf.matmul(x_tensor, weights), biases)\n",
    "    x_tensor = tf.nn.relu(x_tensor)\n",
    "    return x_tensor\n",
    "\n",
    "def output_contrib(x_tensor, num_outputs):\n",
    "    return tf.contrib.layers.fully_connected(x_tensor, num_outputs, activation_fn=tf.nn.relu)\n",
    "    \n",
    "def output(x_tensor, num_outputs):\n",
    "    \"\"\"\n",
    "    Apply a output layer to x_tensor using weight and bias\n",
    "    : x_tensor: A 2-D tensor where the first dimension is batch size.\n",
    "    : num_outputs: The number of output that the new tensor should be.\n",
    "    : return: A 2-D tensor where the second dimension is num_outputs.\n",
    "    \"\"\"\n",
    "    return output_contrib(x_tensor, num_outputs)\n",
    "    #return output_primitives(x_tensor, num_outputs)\n",
    "\n",
    "\"\"\"\n",
    "DON'T MODIFY ANYTHING IN THIS CELL THAT IS BELOW THIS LINE\n",
    "\"\"\"\n",
    "tests.test_output(output)"
   ]
  },
  {
   "cell_type": "markdown",
   "metadata": {},
   "source": [
    "### Create Convolutional Model\n",
    "Implement the function `conv_net` to create a convolutional neural network model. The function takes in a batch of images, `x`, and outputs logits.  Use the layers you created above to create this model:\n",
    "\n",
    "* Apply 1, 2, or 3 Convolution and Max Pool layers\n",
    "* Apply a Flatten Layer\n",
    "* Apply 1, 2, or 3 Fully Connected Layers\n",
    "* Apply an Output Layer\n",
    "* Return the output\n",
    "* Apply [TensorFlow's Dropout](https://www.tensorflow.org/api_docs/python/tf/nn/dropout) to one or more layers in the model using `keep_prob`. "
   ]
  },
  {
   "cell_type": "code",
   "execution_count": 41,
   "metadata": {
    "collapsed": false
   },
   "outputs": [
    {
     "name": "stdout",
     "output_type": "stream",
     "text": [
      "Neural Network Built!\n"
     ]
    }
   ],
   "source": [
    "def conv_net(x, keep_prob):\n",
    "    \"\"\"\n",
    "    Create a convolutional neural network model\n",
    "    : x: Placeholder tensor that holds image data.\n",
    "    : keep_prob: Placeholder tensor that hold dropout keep probability.\n",
    "    : return: Tensor that represents logits\n",
    "    \"\"\"\n",
    "    # Apply 1, 2, or 3 Convolution and Max Pool layers\n",
    "    conv_num_outputs = (64, \n",
    "                        64, \n",
    "                        64)\n",
    "    conv_ksize = ((3,3), \n",
    "                  (3,3), \n",
    "                  (3,3))\n",
    "    conv_strides = ((1,1), \n",
    "                    (1,1), \n",
    "                    (1,1))\n",
    "    pool_ksize = ((2,2), \n",
    "                  (2,2), \n",
    "                  (2,2))\n",
    "    pool_strides = ((2,2), \n",
    "                    (2,2), \n",
    "                    (2,2))\n",
    "    \n",
    "    x = conv2d_maxpool(x, conv_num_outputs[0], conv_ksize[0], conv_strides[0], pool_ksize[0], pool_strides[0])\n",
    "    x = conv2d_maxpool(x, conv_num_outputs[1], conv_ksize[1], conv_strides[1], pool_ksize[1], pool_strides[1])\n",
    "    x = conv2d_maxpool(x, conv_num_outputs[2], conv_ksize[2], conv_strides[2], pool_ksize[2], pool_strides[2])    \n",
    "\n",
    "    # Apply a Flatten Layer\n",
    "    x = flatten(x)\n",
    "    \n",
    "\n",
    "    # Apply 1, 2, or 3 Fully Connected Layers\n",
    "    num_outputs = (1024, 256, 64)\n",
    "    x = fully_conn(x, num_outputs[0])\n",
    "    x = tf.nn.dropout(x, keep_prob)\n",
    "    # x = fully_conn(x, num_outputs[1])\n",
    "    # x = tf.nn.dropout(x, keep_prob)\n",
    "    # x = fully_conn(x, num_outputs[2])\n",
    "    # x = tf.nn.dropout(x, keep_prob)    \n",
    "    \n",
    "    # Apply an Output Layer\n",
    "    logits = output(x, 10)    \n",
    "    return logits\n",
    "\n",
    "\n",
    "\"\"\"\n",
    "DON'T MODIFY ANYTHING IN THIS CELL THAT IS BELOW THIS LINE\n",
    "\"\"\"\n",
    "\n",
    "##############################\n",
    "## Build the Neural Network ##\n",
    "##############################\n",
    "\n",
    "# Remove previous weights, bias, inputs, etc..\n",
    "tf.reset_default_graph()\n",
    "\n",
    "# Inputs\n",
    "x = neural_net_image_input((32, 32, 3))\n",
    "y = neural_net_label_input(10)\n",
    "keep_prob = neural_net_keep_prob_input()\n",
    "\n",
    "# Model\n",
    "logits = conv_net(x, keep_prob)\n",
    "\n",
    "# Name logits Tensor, so that is can be loaded from disk after training\n",
    "logits = tf.identity(logits, name='logits')\n",
    "\n",
    "# Loss and Optimizer\n",
    "cost = tf.reduce_mean(tf.nn.softmax_cross_entropy_with_logits(logits=logits, labels=y))\n",
    "optimizer = tf.train.AdamOptimizer().minimize(cost)\n",
    "\n",
    "# Accuracy\n",
    "correct_pred = tf.equal(tf.argmax(logits, 1), tf.argmax(y, 1))\n",
    "accuracy = tf.reduce_mean(tf.cast(correct_pred, tf.float32), name='accuracy')\n",
    "\n",
    "tests.test_conv_net(conv_net)"
   ]
  },
  {
   "cell_type": "markdown",
   "metadata": {},
   "source": [
    "## Train the Neural Network\n",
    "### Single Optimization\n",
    "Implement the function `train_neural_network` to do a single optimization.  The optimization should use `optimizer` to optimize in `session` with a `feed_dict` of the following:\n",
    "* `x` for image input\n",
    "* `y` for labels\n",
    "* `keep_prob` for keep probability for dropout\n",
    "\n",
    "This function will be called for each batch, so `tf.global_variables_initializer()` has already been called.\n",
    "\n",
    "Note: Nothing needs to be returned. This function is only optimizing the neural network."
   ]
  },
  {
   "cell_type": "code",
   "execution_count": 42,
   "metadata": {
    "collapsed": false
   },
   "outputs": [
    {
     "name": "stdout",
     "output_type": "stream",
     "text": [
      "Tests Passed\n"
     ]
    }
   ],
   "source": [
    "def train_neural_network(session, optimizer, keep_probability, feature_batch, label_batch):\n",
    "    \"\"\"\n",
    "    Optimize the session on a batch of images and labels\n",
    "    : session: Current TensorFlow session\n",
    "    : optimizer: TensorFlow optimizer function\n",
    "    : keep_probability: keep probability\n",
    "    : feature_batch: Batch of Numpy image data\n",
    "    : label_batch: Batch of Numpy label data\n",
    "    \"\"\"\n",
    "    session.run(optimizer, feed_dict={x: feature_batch, y: label_batch, keep_prob: keep_probability})\n",
    "\n",
    "\"\"\"\n",
    "DON'T MODIFY ANYTHING IN THIS CELL THAT IS BELOW THIS LINE\n",
    "\"\"\"\n",
    "tests.test_train_nn(train_neural_network)"
   ]
  },
  {
   "cell_type": "markdown",
   "metadata": {},
   "source": [
    "### Show Stats\n",
    "Implement the function `print_stats` to print loss and validation accuracy.  Use the global variables `valid_features` and `valid_labels` to calculate validation accuracy.  Use a keep probability of `1.0` to calculate the loss and validation accuracy."
   ]
  },
  {
   "cell_type": "code",
   "execution_count": 43,
   "metadata": {
    "collapsed": false
   },
   "outputs": [],
   "source": [
    "def print_stats(session, feature_batch, label_batch, cost, accuracy):\n",
    "    \"\"\"\n",
    "    Print information about loss and validation accuracy\n",
    "    : session: Current TensorFlow session\n",
    "    : feature_batch: Batch of Numpy image data\n",
    "    : label_batch: Batch of Numpy label data\n",
    "    : cost: TensorFlow cost function\n",
    "    : accuracy: TensorFlow accuracy function\n",
    "    \"\"\"\n",
    "    loss = session.run(cost, feed_dict={x:feature_batch, y:label_batch, keep_prob:1.0})\n",
    "    validation_accuracy = session.run(accuracy, feed_dict={x: valid_features, y: valid_labels, keep_prob:1.0})\n",
    "    print('Current loss is : %f.    Validation accuracy is : %.2f%%'%(loss,validation_accuracy*100))"
   ]
  },
  {
   "cell_type": "markdown",
   "metadata": {},
   "source": [
    "### Hyperparameters\n",
    "Tune the following parameters:\n",
    "* Set `epochs` to the number of iterations until the network stops learning or start overfitting\n",
    "* Set `batch_size` to the highest number that your machine has memory for.  Most people set them to common sizes of memory:\n",
    " * 64\n",
    " * 128\n",
    " * 256\n",
    " * ...\n",
    "* Set `keep_probability` to the probability of keeping a node using dropout"
   ]
  },
  {
   "cell_type": "code",
   "execution_count": 44,
   "metadata": {
    "collapsed": true
   },
   "outputs": [],
   "source": [
    "# Tune Parameters\n",
    "epochs = 50\n",
    "batch_size = 128\n",
    "keep_probability = 0.5"
   ]
  },
  {
   "cell_type": "markdown",
   "metadata": {},
   "source": [
    "### Train on a Single CIFAR-10 Batch\n",
    "Instead of training the neural network on all the CIFAR-10 batches of data, let's use a single batch. This should save time while you iterate on the model to get a better accuracy.  Once the final validation accuracy is 50% or greater, run the model on all the data in the next section."
   ]
  },
  {
   "cell_type": "code",
   "execution_count": 39,
   "metadata": {
    "collapsed": false
   },
   "outputs": [
    {
     "name": "stdout",
     "output_type": "stream",
     "text": [
      "Checking the Training on a Single Batch...\n",
      "Epoch  1, CIFAR-10 Batch 1:  Current loss is : 2.008124.    Validation accuracy is : 27.62%\n",
      "Epoch  2, CIFAR-10 Batch 1:  Current loss is : 1.742269.    Validation accuracy is : 35.44%\n",
      "Epoch  3, CIFAR-10 Batch 1:  Current loss is : 1.371973.    Validation accuracy is : 46.50%\n",
      "Epoch  4, CIFAR-10 Batch 1:  Current loss is : 1.194175.    Validation accuracy is : 52.78%\n",
      "Epoch  5, CIFAR-10 Batch 1:  Current loss is : 0.966459.    Validation accuracy is : 56.82%\n",
      "Epoch  6, CIFAR-10 Batch 1:  Current loss is : 0.910792.    Validation accuracy is : 57.14%\n",
      "Epoch  7, CIFAR-10 Batch 1:  Current loss is : 0.815972.    Validation accuracy is : 58.20%\n",
      "Epoch  8, CIFAR-10 Batch 1:  Current loss is : 0.669576.    Validation accuracy is : 57.42%\n",
      "Epoch  9, CIFAR-10 Batch 1:  Current loss is : 0.620616.    Validation accuracy is : 58.38%\n",
      "Epoch 10, CIFAR-10 Batch 1:  Current loss is : 0.529690.    Validation accuracy is : 59.12%\n",
      "Epoch 11, CIFAR-10 Batch 1:  Current loss is : 0.469509.    Validation accuracy is : 59.14%\n",
      "Epoch 12, CIFAR-10 Batch 1:  Current loss is : 0.338105.    Validation accuracy is : 58.38%\n",
      "Epoch 13, CIFAR-10 Batch 1:  Current loss is : 0.318206.    Validation accuracy is : 59.38%\n",
      "Epoch 14, CIFAR-10 Batch 1:  Current loss is : 0.315783.    Validation accuracy is : 58.84%\n",
      "Epoch 15, CIFAR-10 Batch 1:  Current loss is : 0.277290.    Validation accuracy is : 58.68%\n",
      "Epoch 16, CIFAR-10 Batch 1:  Current loss is : 0.225509.    Validation accuracy is : 56.66%\n",
      "Epoch 17, CIFAR-10 Batch 1:  Current loss is : 0.187729.    Validation accuracy is : 58.38%\n",
      "Epoch 18, CIFAR-10 Batch 1:  Current loss is : 0.161470.    Validation accuracy is : 57.24%\n",
      "Epoch 19, CIFAR-10 Batch 1:  Current loss is : 0.134089.    Validation accuracy is : 57.12%\n",
      "Epoch 20, CIFAR-10 Batch 1:  Current loss is : 0.130221.    Validation accuracy is : 56.52%\n",
      "Epoch 21, CIFAR-10 Batch 1:  Current loss is : 0.145441.    Validation accuracy is : 57.20%\n",
      "Epoch 22, CIFAR-10 Batch 1:  Current loss is : 0.112525.    Validation accuracy is : 57.30%\n"
     ]
    },
    {
     "ename": "KeyboardInterrupt",
     "evalue": "",
     "output_type": "error",
     "traceback": [
      "\u001b[0;31m---------------------------------------------------------------------------\u001b[0m",
      "\u001b[0;31mKeyboardInterrupt\u001b[0m                         Traceback (most recent call last)",
      "\u001b[0;32m<ipython-input-39-318c013b2629>\u001b[0m in \u001b[0;36m<module>\u001b[0;34m()\u001b[0m\n\u001b[1;32m     11\u001b[0m         \u001b[0mbatch_i\u001b[0m \u001b[0;34m=\u001b[0m \u001b[0;36m1\u001b[0m\u001b[0;34m\u001b[0m\u001b[0m\n\u001b[1;32m     12\u001b[0m         \u001b[0;32mfor\u001b[0m \u001b[0mbatch_features\u001b[0m\u001b[0;34m,\u001b[0m \u001b[0mbatch_labels\u001b[0m \u001b[0;32min\u001b[0m \u001b[0mhelper\u001b[0m\u001b[0;34m.\u001b[0m\u001b[0mload_preprocess_training_batch\u001b[0m\u001b[0;34m(\u001b[0m\u001b[0mbatch_i\u001b[0m\u001b[0;34m,\u001b[0m \u001b[0mbatch_size\u001b[0m\u001b[0;34m)\u001b[0m\u001b[0;34m:\u001b[0m\u001b[0;34m\u001b[0m\u001b[0m\n\u001b[0;32m---> 13\u001b[0;31m             \u001b[0mtrain_neural_network\u001b[0m\u001b[0;34m(\u001b[0m\u001b[0msess\u001b[0m\u001b[0;34m,\u001b[0m \u001b[0moptimizer\u001b[0m\u001b[0;34m,\u001b[0m \u001b[0mkeep_probability\u001b[0m\u001b[0;34m,\u001b[0m \u001b[0mbatch_features\u001b[0m\u001b[0;34m,\u001b[0m \u001b[0mbatch_labels\u001b[0m\u001b[0;34m)\u001b[0m\u001b[0;34m\u001b[0m\u001b[0m\n\u001b[0m\u001b[1;32m     14\u001b[0m         \u001b[0mprint\u001b[0m\u001b[0;34m(\u001b[0m\u001b[0;34m'Epoch {:>2}, CIFAR-10 Batch {}:  '\u001b[0m\u001b[0;34m.\u001b[0m\u001b[0mformat\u001b[0m\u001b[0;34m(\u001b[0m\u001b[0mepoch\u001b[0m \u001b[0;34m+\u001b[0m \u001b[0;36m1\u001b[0m\u001b[0;34m,\u001b[0m \u001b[0mbatch_i\u001b[0m\u001b[0;34m)\u001b[0m\u001b[0;34m,\u001b[0m \u001b[0mend\u001b[0m\u001b[0;34m=\u001b[0m\u001b[0;34m''\u001b[0m\u001b[0;34m)\u001b[0m\u001b[0;34m\u001b[0m\u001b[0m\n\u001b[1;32m     15\u001b[0m         \u001b[0mprint_stats\u001b[0m\u001b[0;34m(\u001b[0m\u001b[0msess\u001b[0m\u001b[0;34m,\u001b[0m \u001b[0mbatch_features\u001b[0m\u001b[0;34m,\u001b[0m \u001b[0mbatch_labels\u001b[0m\u001b[0;34m,\u001b[0m \u001b[0mcost\u001b[0m\u001b[0;34m,\u001b[0m \u001b[0maccuracy\u001b[0m\u001b[0;34m)\u001b[0m\u001b[0;34m\u001b[0m\u001b[0m\n",
      "\u001b[0;32m<ipython-input-36-bebfe65999a5>\u001b[0m in \u001b[0;36mtrain_neural_network\u001b[0;34m(session, optimizer, keep_probability, feature_batch, label_batch)\u001b[0m\n\u001b[1;32m      8\u001b[0m     \u001b[0;34m:\u001b[0m \u001b[0mlabel_batch\u001b[0m\u001b[0;34m:\u001b[0m \u001b[0mBatch\u001b[0m \u001b[0mof\u001b[0m \u001b[0mNumpy\u001b[0m \u001b[0mlabel\u001b[0m \u001b[0mdata\u001b[0m\u001b[0;34m\u001b[0m\u001b[0m\n\u001b[1;32m      9\u001b[0m     \"\"\"\n\u001b[0;32m---> 10\u001b[0;31m     \u001b[0msession\u001b[0m\u001b[0;34m.\u001b[0m\u001b[0mrun\u001b[0m\u001b[0;34m(\u001b[0m\u001b[0moptimizer\u001b[0m\u001b[0;34m,\u001b[0m \u001b[0mfeed_dict\u001b[0m\u001b[0;34m=\u001b[0m\u001b[0;34m{\u001b[0m\u001b[0mx\u001b[0m\u001b[0;34m:\u001b[0m \u001b[0mfeature_batch\u001b[0m\u001b[0;34m,\u001b[0m \u001b[0my\u001b[0m\u001b[0;34m:\u001b[0m \u001b[0mlabel_batch\u001b[0m\u001b[0;34m,\u001b[0m \u001b[0mkeep_prob\u001b[0m\u001b[0;34m:\u001b[0m \u001b[0mkeep_probability\u001b[0m\u001b[0;34m}\u001b[0m\u001b[0;34m)\u001b[0m\u001b[0;34m\u001b[0m\u001b[0m\n\u001b[0m\u001b[1;32m     11\u001b[0m \u001b[0;34m\u001b[0m\u001b[0m\n\u001b[1;32m     12\u001b[0m \"\"\"\n",
      "\u001b[0;32m/Users/victor/anaconda3/envs/tensorflow/lib/python3.5/site-packages/tensorflow/python/client/session.py\u001b[0m in \u001b[0;36mrun\u001b[0;34m(self, fetches, feed_dict, options, run_metadata)\u001b[0m\n\u001b[1;32m    765\u001b[0m     \u001b[0;32mtry\u001b[0m\u001b[0;34m:\u001b[0m\u001b[0;34m\u001b[0m\u001b[0m\n\u001b[1;32m    766\u001b[0m       result = self._run(None, fetches, feed_dict, options_ptr,\n\u001b[0;32m--> 767\u001b[0;31m                          run_metadata_ptr)\n\u001b[0m\u001b[1;32m    768\u001b[0m       \u001b[0;32mif\u001b[0m \u001b[0mrun_metadata\u001b[0m\u001b[0;34m:\u001b[0m\u001b[0;34m\u001b[0m\u001b[0m\n\u001b[1;32m    769\u001b[0m         \u001b[0mproto_data\u001b[0m \u001b[0;34m=\u001b[0m \u001b[0mtf_session\u001b[0m\u001b[0;34m.\u001b[0m\u001b[0mTF_GetBuffer\u001b[0m\u001b[0;34m(\u001b[0m\u001b[0mrun_metadata_ptr\u001b[0m\u001b[0;34m)\u001b[0m\u001b[0;34m\u001b[0m\u001b[0m\n",
      "\u001b[0;32m/Users/victor/anaconda3/envs/tensorflow/lib/python3.5/site-packages/tensorflow/python/client/session.py\u001b[0m in \u001b[0;36m_run\u001b[0;34m(self, handle, fetches, feed_dict, options, run_metadata)\u001b[0m\n\u001b[1;32m    963\u001b[0m     \u001b[0;32mif\u001b[0m \u001b[0mfinal_fetches\u001b[0m \u001b[0;32mor\u001b[0m \u001b[0mfinal_targets\u001b[0m\u001b[0;34m:\u001b[0m\u001b[0;34m\u001b[0m\u001b[0m\n\u001b[1;32m    964\u001b[0m       results = self._do_run(handle, final_targets, final_fetches,\n\u001b[0;32m--> 965\u001b[0;31m                              feed_dict_string, options, run_metadata)\n\u001b[0m\u001b[1;32m    966\u001b[0m     \u001b[0;32melse\u001b[0m\u001b[0;34m:\u001b[0m\u001b[0;34m\u001b[0m\u001b[0m\n\u001b[1;32m    967\u001b[0m       \u001b[0mresults\u001b[0m \u001b[0;34m=\u001b[0m \u001b[0;34m[\u001b[0m\u001b[0;34m]\u001b[0m\u001b[0;34m\u001b[0m\u001b[0m\n",
      "\u001b[0;32m/Users/victor/anaconda3/envs/tensorflow/lib/python3.5/site-packages/tensorflow/python/client/session.py\u001b[0m in \u001b[0;36m_do_run\u001b[0;34m(self, handle, target_list, fetch_list, feed_dict, options, run_metadata)\u001b[0m\n\u001b[1;32m   1013\u001b[0m     \u001b[0;32mif\u001b[0m \u001b[0mhandle\u001b[0m \u001b[0;32mis\u001b[0m \u001b[0;32mNone\u001b[0m\u001b[0;34m:\u001b[0m\u001b[0;34m\u001b[0m\u001b[0m\n\u001b[1;32m   1014\u001b[0m       return self._do_call(_run_fn, self._session, feed_dict, fetch_list,\n\u001b[0;32m-> 1015\u001b[0;31m                            target_list, options, run_metadata)\n\u001b[0m\u001b[1;32m   1016\u001b[0m     \u001b[0;32melse\u001b[0m\u001b[0;34m:\u001b[0m\u001b[0;34m\u001b[0m\u001b[0m\n\u001b[1;32m   1017\u001b[0m       return self._do_call(_prun_fn, self._session, handle, feed_dict,\n",
      "\u001b[0;32m/Users/victor/anaconda3/envs/tensorflow/lib/python3.5/site-packages/tensorflow/python/client/session.py\u001b[0m in \u001b[0;36m_do_call\u001b[0;34m(self, fn, *args)\u001b[0m\n\u001b[1;32m   1020\u001b[0m   \u001b[0;32mdef\u001b[0m \u001b[0m_do_call\u001b[0m\u001b[0;34m(\u001b[0m\u001b[0mself\u001b[0m\u001b[0;34m,\u001b[0m \u001b[0mfn\u001b[0m\u001b[0;34m,\u001b[0m \u001b[0;34m*\u001b[0m\u001b[0margs\u001b[0m\u001b[0;34m)\u001b[0m\u001b[0;34m:\u001b[0m\u001b[0;34m\u001b[0m\u001b[0m\n\u001b[1;32m   1021\u001b[0m     \u001b[0;32mtry\u001b[0m\u001b[0;34m:\u001b[0m\u001b[0;34m\u001b[0m\u001b[0m\n\u001b[0;32m-> 1022\u001b[0;31m       \u001b[0;32mreturn\u001b[0m \u001b[0mfn\u001b[0m\u001b[0;34m(\u001b[0m\u001b[0;34m*\u001b[0m\u001b[0margs\u001b[0m\u001b[0;34m)\u001b[0m\u001b[0;34m\u001b[0m\u001b[0m\n\u001b[0m\u001b[1;32m   1023\u001b[0m     \u001b[0;32mexcept\u001b[0m \u001b[0merrors\u001b[0m\u001b[0;34m.\u001b[0m\u001b[0mOpError\u001b[0m \u001b[0;32mas\u001b[0m \u001b[0me\u001b[0m\u001b[0;34m:\u001b[0m\u001b[0;34m\u001b[0m\u001b[0m\n\u001b[1;32m   1024\u001b[0m       \u001b[0mmessage\u001b[0m \u001b[0;34m=\u001b[0m \u001b[0mcompat\u001b[0m\u001b[0;34m.\u001b[0m\u001b[0mas_text\u001b[0m\u001b[0;34m(\u001b[0m\u001b[0me\u001b[0m\u001b[0;34m.\u001b[0m\u001b[0mmessage\u001b[0m\u001b[0;34m)\u001b[0m\u001b[0;34m\u001b[0m\u001b[0m\n",
      "\u001b[0;32m/Users/victor/anaconda3/envs/tensorflow/lib/python3.5/site-packages/tensorflow/python/client/session.py\u001b[0m in \u001b[0;36m_run_fn\u001b[0;34m(session, feed_dict, fetch_list, target_list, options, run_metadata)\u001b[0m\n\u001b[1;32m   1002\u001b[0m         return tf_session.TF_Run(session, options,\n\u001b[1;32m   1003\u001b[0m                                  \u001b[0mfeed_dict\u001b[0m\u001b[0;34m,\u001b[0m \u001b[0mfetch_list\u001b[0m\u001b[0;34m,\u001b[0m \u001b[0mtarget_list\u001b[0m\u001b[0;34m,\u001b[0m\u001b[0;34m\u001b[0m\u001b[0m\n\u001b[0;32m-> 1004\u001b[0;31m                                  status, run_metadata)\n\u001b[0m\u001b[1;32m   1005\u001b[0m \u001b[0;34m\u001b[0m\u001b[0m\n\u001b[1;32m   1006\u001b[0m     \u001b[0;32mdef\u001b[0m \u001b[0m_prun_fn\u001b[0m\u001b[0;34m(\u001b[0m\u001b[0msession\u001b[0m\u001b[0;34m,\u001b[0m \u001b[0mhandle\u001b[0m\u001b[0;34m,\u001b[0m \u001b[0mfeed_dict\u001b[0m\u001b[0;34m,\u001b[0m \u001b[0mfetch_list\u001b[0m\u001b[0;34m)\u001b[0m\u001b[0;34m:\u001b[0m\u001b[0;34m\u001b[0m\u001b[0m\n",
      "\u001b[0;31mKeyboardInterrupt\u001b[0m: "
     ]
    }
   ],
   "source": [
    "\"\"\"\n",
    "DON'T MODIFY ANYTHING IN THIS CELL\n",
    "\"\"\"\n",
    "print('Checking the Training on a Single Batch...')\n",
    "with tf.Session() as sess:\n",
    "    # Initializing the variables1\n",
    "    sess.run(tf.global_variables_initializer())\n",
    "    \n",
    "    # Training cycle\n",
    "    for epoch in range(epochs):\n",
    "        batch_i = 1\n",
    "        for batch_features, batch_labels in helper.load_preprocess_training_batch(batch_i, batch_size):\n",
    "            train_neural_network(sess, optimizer, keep_probability, batch_features, batch_labels)\n",
    "        print('Epoch {:>2}, CIFAR-10 Batch {}:  '.format(epoch + 1, batch_i), end='')\n",
    "        print_stats(sess, batch_features, batch_labels, cost, accuracy)"
   ]
  },
  {
   "cell_type": "markdown",
   "metadata": {},
   "source": [
    "### Fully Train the Model\n",
    "Now that you got a good accuracy with a single CIFAR-10 batch, try it with all five batches."
   ]
  },
  {
   "cell_type": "code",
   "execution_count": 45,
   "metadata": {
    "collapsed": false
   },
   "outputs": [
    {
     "name": "stdout",
     "output_type": "stream",
     "text": [
      "Training...\n",
      "Epoch  1, CIFAR-10 Batch 1:  Current loss is : 2.139043.    Validation accuracy is : 27.80%\n",
      "Epoch  1, CIFAR-10 Batch 2:  Current loss is : 1.761238.    Validation accuracy is : 38.88%\n",
      "Epoch  1, CIFAR-10 Batch 3:  Current loss is : 1.558659.    Validation accuracy is : 43.08%\n",
      "Epoch  1, CIFAR-10 Batch 4:  Current loss is : 1.623838.    Validation accuracy is : 46.18%\n",
      "Epoch  1, CIFAR-10 Batch 5:  Current loss is : 1.546353.    Validation accuracy is : 49.14%\n",
      "Epoch  2, CIFAR-10 Batch 1:  Current loss is : 1.393921.    Validation accuracy is : 50.08%\n",
      "Epoch  2, CIFAR-10 Batch 2:  Current loss is : 1.297491.    Validation accuracy is : 52.28%\n",
      "Epoch  2, CIFAR-10 Batch 3:  Current loss is : 0.863061.    Validation accuracy is : 59.52%\n",
      "Epoch  2, CIFAR-10 Batch 4:  Current loss is : 0.962235.    Validation accuracy is : 62.42%\n",
      "Epoch  2, CIFAR-10 Batch 5:  Current loss is : 0.826368.    Validation accuracy is : 64.98%\n",
      "Epoch  3, CIFAR-10 Batch 1:  Current loss is : 0.892976.    Validation accuracy is : 64.02%\n",
      "Epoch  3, CIFAR-10 Batch 2:  Current loss is : 0.876989.    Validation accuracy is : 66.46%\n",
      "Epoch  3, CIFAR-10 Batch 3:  Current loss is : 0.619692.    Validation accuracy is : 62.94%\n",
      "Epoch  3, CIFAR-10 Batch 4:  Current loss is : 0.742387.    Validation accuracy is : 66.24%\n",
      "Epoch  3, CIFAR-10 Batch 5:  Current loss is : 0.643440.    Validation accuracy is : 67.40%\n",
      "Epoch  4, CIFAR-10 Batch 1:  Current loss is : 0.642586.    Validation accuracy is : 66.42%\n",
      "Epoch  4, CIFAR-10 Batch 2:  Current loss is : 0.698061.    Validation accuracy is : 68.10%\n",
      "Epoch  4, CIFAR-10 Batch 3:  Current loss is : 0.391276.    Validation accuracy is : 69.52%\n",
      "Epoch  4, CIFAR-10 Batch 4:  Current loss is : 0.622073.    Validation accuracy is : 68.50%\n",
      "Epoch  4, CIFAR-10 Batch 5:  Current loss is : 0.521615.    Validation accuracy is : 69.82%\n",
      "Epoch  5, CIFAR-10 Batch 1:  Current loss is : 0.537020.    Validation accuracy is : 68.38%\n",
      "Epoch  5, CIFAR-10 Batch 2:  Current loss is : 0.619885.    Validation accuracy is : 69.36%\n",
      "Epoch  5, CIFAR-10 Batch 3:  Current loss is : 0.363999.    Validation accuracy is : 71.26%\n",
      "Epoch  5, CIFAR-10 Batch 4:  Current loss is : 0.504724.    Validation accuracy is : 69.46%\n",
      "Epoch  5, CIFAR-10 Batch 5:  Current loss is : 0.428685.    Validation accuracy is : 70.82%\n",
      "Epoch  6, CIFAR-10 Batch 1:  Current loss is : 0.436705.    Validation accuracy is : 68.80%\n",
      "Epoch  6, CIFAR-10 Batch 2:  Current loss is : 0.415351.    Validation accuracy is : 71.60%\n",
      "Epoch  6, CIFAR-10 Batch 3:  Current loss is : 0.333926.    Validation accuracy is : 71.20%\n",
      "Epoch  6, CIFAR-10 Batch 4:  Current loss is : 0.451689.    Validation accuracy is : 70.66%\n",
      "Epoch  6, CIFAR-10 Batch 5:  Current loss is : 0.418090.    Validation accuracy is : 70.36%\n",
      "Epoch  7, CIFAR-10 Batch 1:  Current loss is : 0.355585.    Validation accuracy is : 69.90%\n",
      "Epoch  7, CIFAR-10 Batch 2:  Current loss is : 0.345677.    Validation accuracy is : 71.42%\n",
      "Epoch  7, CIFAR-10 Batch 3:  Current loss is : 0.300314.    Validation accuracy is : 70.28%\n",
      "Epoch  7, CIFAR-10 Batch 4:  Current loss is : 0.400993.    Validation accuracy is : 71.36%\n",
      "Epoch  7, CIFAR-10 Batch 5:  Current loss is : 0.302323.    Validation accuracy is : 72.00%\n",
      "Epoch  8, CIFAR-10 Batch 1:  Current loss is : 0.311266.    Validation accuracy is : 71.52%\n",
      "Epoch  8, CIFAR-10 Batch 2:  Current loss is : 0.333051.    Validation accuracy is : 71.18%\n",
      "Epoch  8, CIFAR-10 Batch 3:  Current loss is : 0.273136.    Validation accuracy is : 69.58%\n",
      "Epoch  8, CIFAR-10 Batch 4:  Current loss is : 0.307489.    Validation accuracy is : 70.30%\n",
      "Epoch  8, CIFAR-10 Batch 5:  Current loss is : 0.270801.    Validation accuracy is : 71.88%\n",
      "Epoch  9, CIFAR-10 Batch 1:  Current loss is : 0.237469.    Validation accuracy is : 71.00%\n",
      "Epoch  9, CIFAR-10 Batch 2:  Current loss is : 0.296722.    Validation accuracy is : 71.40%\n",
      "Epoch  9, CIFAR-10 Batch 3:  Current loss is : 0.198129.    Validation accuracy is : 71.04%\n",
      "Epoch  9, CIFAR-10 Batch 4:  Current loss is : 0.231799.    Validation accuracy is : 70.72%\n",
      "Epoch  9, CIFAR-10 Batch 5:  Current loss is : 0.218724.    Validation accuracy is : 71.06%\n",
      "Epoch 10, CIFAR-10 Batch 1:  Current loss is : 0.215655.    Validation accuracy is : 71.60%\n",
      "Epoch 10, CIFAR-10 Batch 2:  Current loss is : 0.271857.    Validation accuracy is : 70.74%\n",
      "Epoch 10, CIFAR-10 Batch 3:  Current loss is : 0.163812.    Validation accuracy is : 70.68%\n",
      "Epoch 10, CIFAR-10 Batch 4:  Current loss is : 0.251808.    Validation accuracy is : 69.20%\n",
      "Epoch 10, CIFAR-10 Batch 5:  Current loss is : 0.216582.    Validation accuracy is : 70.94%\n",
      "Epoch 11, CIFAR-10 Batch 1:  Current loss is : 0.206473.    Validation accuracy is : 70.50%\n",
      "Epoch 11, CIFAR-10 Batch 2:  Current loss is : 0.241078.    Validation accuracy is : 69.66%\n",
      "Epoch 11, CIFAR-10 Batch 3:  Current loss is : 0.167656.    Validation accuracy is : 70.30%\n",
      "Epoch 11, CIFAR-10 Batch 4:  Current loss is : 0.265300.    Validation accuracy is : 70.08%\n",
      "Epoch 11, CIFAR-10 Batch 5:  Current loss is : 0.206029.    Validation accuracy is : 71.38%\n",
      "Epoch 12, CIFAR-10 Batch 1:  Current loss is : 0.167902.    Validation accuracy is : 71.20%\n",
      "Epoch 12, CIFAR-10 Batch 2:  Current loss is : 0.196694.    Validation accuracy is : 70.62%\n",
      "Epoch 12, CIFAR-10 Batch 3:  Current loss is : 0.165265.    Validation accuracy is : 68.96%\n",
      "Epoch 12, CIFAR-10 Batch 4:  Current loss is : 0.232595.    Validation accuracy is : 69.10%\n",
      "Epoch 12, CIFAR-10 Batch 5:  Current loss is : 0.186623.    Validation accuracy is : 71.44%\n",
      "Epoch 13, CIFAR-10 Batch 1:  Current loss is : 0.194418.    Validation accuracy is : 70.68%\n",
      "Epoch 13, CIFAR-10 Batch 2:  Current loss is : 0.203559.    Validation accuracy is : 71.36%\n",
      "Epoch 13, CIFAR-10 Batch 3:  Current loss is : 0.130036.    Validation accuracy is : 70.40%\n",
      "Epoch 13, CIFAR-10 Batch 4:  Current loss is : 0.183812.    Validation accuracy is : 69.44%\n",
      "Epoch 13, CIFAR-10 Batch 5:  Current loss is : 0.189961.    Validation accuracy is : 69.40%\n",
      "Epoch 14, CIFAR-10 Batch 1:  Current loss is : 0.182764.    Validation accuracy is : 70.06%\n",
      "Epoch 14, CIFAR-10 Batch 2:  Current loss is : 0.178600.    Validation accuracy is : 70.10%\n",
      "Epoch 14, CIFAR-10 Batch 3:  Current loss is : 0.116600.    Validation accuracy is : 70.14%\n",
      "Epoch 14, CIFAR-10 Batch 4:  Current loss is : 0.182054.    Validation accuracy is : 70.48%\n",
      "Epoch 14, CIFAR-10 Batch 5:  Current loss is : 0.150633.    Validation accuracy is : 70.18%\n",
      "Epoch 15, CIFAR-10 Batch 1:  Current loss is : 0.134615.    Validation accuracy is : 70.40%\n",
      "Epoch 15, CIFAR-10 Batch 2:  Current loss is : 0.210561.    Validation accuracy is : 69.20%\n",
      "Epoch 15, CIFAR-10 Batch 3:  Current loss is : 0.152949.    Validation accuracy is : 69.60%\n",
      "Epoch 15, CIFAR-10 Batch 4:  Current loss is : 0.153217.    Validation accuracy is : 70.18%\n",
      "Epoch 15, CIFAR-10 Batch 5:  Current loss is : 0.159287.    Validation accuracy is : 71.92%\n",
      "Epoch 16, CIFAR-10 Batch 1:  Current loss is : 0.111892.    Validation accuracy is : 70.48%\n",
      "Epoch 16, CIFAR-10 Batch 2:  Current loss is : 0.136295.    Validation accuracy is : 69.60%\n",
      "Epoch 16, CIFAR-10 Batch 3:  Current loss is : 0.151758.    Validation accuracy is : 67.14%\n",
      "Epoch 16, CIFAR-10 Batch 4:  Current loss is : 0.142638.    Validation accuracy is : 70.10%\n",
      "Epoch 16, CIFAR-10 Batch 5:  Current loss is : 0.176975.    Validation accuracy is : 70.12%\n",
      "Epoch 17, CIFAR-10 Batch 1:  Current loss is : 0.098816.    Validation accuracy is : 71.00%\n",
      "Epoch 17, CIFAR-10 Batch 2:  Current loss is : 0.140715.    Validation accuracy is : 70.18%\n",
      "Epoch 17, CIFAR-10 Batch 3:  Current loss is : 0.108200.    Validation accuracy is : 68.04%\n",
      "Epoch 17, CIFAR-10 Batch 4:  Current loss is : 0.136091.    Validation accuracy is : 68.98%\n",
      "Epoch 17, CIFAR-10 Batch 5:  Current loss is : 0.118476.    Validation accuracy is : 70.98%\n",
      "Epoch 18, CIFAR-10 Batch 1:  Current loss is : 0.102752.    Validation accuracy is : 70.68%\n",
      "Epoch 18, CIFAR-10 Batch 2:  Current loss is : 0.140959.    Validation accuracy is : 68.76%\n",
      "Epoch 18, CIFAR-10 Batch 3:  Current loss is : 0.085306.    Validation accuracy is : 68.96%\n",
      "Epoch 18, CIFAR-10 Batch 4:  Current loss is : 0.084301.    Validation accuracy is : 70.00%\n",
      "Epoch 18, CIFAR-10 Batch 5:  Current loss is : 0.117199.    Validation accuracy is : 70.40%\n",
      "Epoch 19, CIFAR-10 Batch 1:  Current loss is : 0.129644.    Validation accuracy is : 70.84%\n",
      "Epoch 19, CIFAR-10 Batch 2:  Current loss is : 0.106249.    Validation accuracy is : 69.66%\n",
      "Epoch 19, CIFAR-10 Batch 3:  Current loss is : 0.067542.    Validation accuracy is : 70.76%\n",
      "Epoch 19, CIFAR-10 Batch 4:  Current loss is : 0.136026.    Validation accuracy is : 70.02%\n",
      "Epoch 19, CIFAR-10 Batch 5:  Current loss is : 0.098269.    Validation accuracy is : 69.68%\n",
      "Epoch 20, CIFAR-10 Batch 1:  Current loss is : 0.129101.    Validation accuracy is : 70.22%\n",
      "Epoch 20, CIFAR-10 Batch 2:  Current loss is : 0.112270.    Validation accuracy is : 70.22%\n",
      "Epoch 20, CIFAR-10 Batch 3:  Current loss is : 0.060455.    Validation accuracy is : 70.40%\n",
      "Epoch 20, CIFAR-10 Batch 4:  Current loss is : 0.089439.    Validation accuracy is : 69.56%\n",
      "Epoch 20, CIFAR-10 Batch 5:  Current loss is : 0.124208.    Validation accuracy is : 69.00%\n",
      "Epoch 21, CIFAR-10 Batch 1:  Current loss is : 0.138137.    Validation accuracy is : 70.68%\n",
      "Epoch 21, CIFAR-10 Batch 2:  Current loss is : 0.123151.    Validation accuracy is : 70.40%\n",
      "Epoch 21, CIFAR-10 Batch 3:  Current loss is : 0.103787.    Validation accuracy is : 69.44%\n",
      "Epoch 21, CIFAR-10 Batch 4:  Current loss is : 0.137287.    Validation accuracy is : 69.54%\n",
      "Epoch 21, CIFAR-10 Batch 5:  Current loss is : 0.097761.    Validation accuracy is : 69.22%\n",
      "Epoch 22, CIFAR-10 Batch 1:  Current loss is : 0.108190.    Validation accuracy is : 70.32%\n",
      "Epoch 22, CIFAR-10 Batch 2:  Current loss is : 0.128868.    Validation accuracy is : 68.60%\n",
      "Epoch 22, CIFAR-10 Batch 3:  Current loss is : 0.064988.    Validation accuracy is : 70.42%\n",
      "Epoch 22, CIFAR-10 Batch 4:  Current loss is : 0.088200.    Validation accuracy is : 70.48%\n",
      "Epoch 22, CIFAR-10 Batch 5:  Current loss is : 0.092631.    Validation accuracy is : 68.70%\n",
      "Epoch 23, CIFAR-10 Batch 1:  Current loss is : 0.091841.    Validation accuracy is : 70.16%\n",
      "Epoch 23, CIFAR-10 Batch 2:  Current loss is : 0.097890.    Validation accuracy is : 69.50%\n",
      "Epoch 23, CIFAR-10 Batch 3:  Current loss is : 0.088819.    Validation accuracy is : 69.52%\n",
      "Epoch 23, CIFAR-10 Batch 4:  Current loss is : 0.107765.    Validation accuracy is : 69.88%\n",
      "Epoch 23, CIFAR-10 Batch 5:  Current loss is : 0.102488.    Validation accuracy is : 68.54%\n",
      "Epoch 24, CIFAR-10 Batch 1:  Current loss is : 0.099655.    Validation accuracy is : 69.54%\n",
      "Epoch 24, CIFAR-10 Batch 2:  Current loss is : 0.102409.    Validation accuracy is : 69.04%\n",
      "Epoch 24, CIFAR-10 Batch 3:  Current loss is : 0.072334.    Validation accuracy is : 69.04%\n",
      "Epoch 24, CIFAR-10 Batch 4:  Current loss is : 0.107183.    Validation accuracy is : 69.06%\n",
      "Epoch 24, CIFAR-10 Batch 5:  Current loss is : 0.069325.    Validation accuracy is : 68.14%\n",
      "Epoch 25, CIFAR-10 Batch 1:  Current loss is : 0.089839.    Validation accuracy is : 69.72%\n",
      "Epoch 25, CIFAR-10 Batch 2:  Current loss is : 0.077249.    Validation accuracy is : 69.72%\n",
      "Epoch 25, CIFAR-10 Batch 3:  Current loss is : 0.052876.    Validation accuracy is : 69.08%\n",
      "Epoch 25, CIFAR-10 Batch 4:  Current loss is : 0.081733.    Validation accuracy is : 68.58%\n",
      "Epoch 25, CIFAR-10 Batch 5:  Current loss is : 0.085208.    Validation accuracy is : 66.68%\n",
      "Epoch 26, CIFAR-10 Batch 1:  Current loss is : 0.083866.    Validation accuracy is : 70.10%\n",
      "Epoch 26, CIFAR-10 Batch 2:  Current loss is : 0.062127.    Validation accuracy is : 69.10%\n",
      "Epoch 26, CIFAR-10 Batch 3:  Current loss is : 0.097734.    Validation accuracy is : 68.50%\n",
      "Epoch 26, CIFAR-10 Batch 4:  Current loss is : 0.105781.    Validation accuracy is : 67.64%\n",
      "Epoch 26, CIFAR-10 Batch 5:  Current loss is : 0.074914.    Validation accuracy is : 68.74%\n",
      "Epoch 27, CIFAR-10 Batch 1:  Current loss is : 0.066401.    Validation accuracy is : 69.74%\n",
      "Epoch 27, CIFAR-10 Batch 2:  Current loss is : 0.054749.    Validation accuracy is : 69.74%\n",
      "Epoch 27, CIFAR-10 Batch 3:  Current loss is : 0.051408.    Validation accuracy is : 70.20%\n",
      "Epoch 27, CIFAR-10 Batch 4:  Current loss is : 0.074976.    Validation accuracy is : 68.04%\n",
      "Epoch 27, CIFAR-10 Batch 5:  Current loss is : 0.050861.    Validation accuracy is : 67.66%\n",
      "Epoch 28, CIFAR-10 Batch 1:  Current loss is : 0.058435.    Validation accuracy is : 69.42%\n",
      "Epoch 28, CIFAR-10 Batch 2:  Current loss is : 0.037263.    Validation accuracy is : 69.96%\n",
      "Epoch 28, CIFAR-10 Batch 3:  Current loss is : 0.048186.    Validation accuracy is : 70.30%\n",
      "Epoch 28, CIFAR-10 Batch 4:  Current loss is : 0.063109.    Validation accuracy is : 69.18%\n",
      "Epoch 28, CIFAR-10 Batch 5:  Current loss is : 0.063981.    Validation accuracy is : 68.66%\n",
      "Epoch 29, CIFAR-10 Batch 1:  Current loss is : 0.048793.    Validation accuracy is : 69.40%\n",
      "Epoch 29, CIFAR-10 Batch 2:  Current loss is : 0.063463.    Validation accuracy is : 68.84%\n",
      "Epoch 29, CIFAR-10 Batch 3:  Current loss is : 0.058825.    Validation accuracy is : 70.52%\n",
      "Epoch 29, CIFAR-10 Batch 4:  Current loss is : 0.089495.    Validation accuracy is : 69.12%\n",
      "Epoch 29, CIFAR-10 Batch 5:  Current loss is : 0.063282.    Validation accuracy is : 69.12%\n",
      "Epoch 30, CIFAR-10 Batch 1:  Current loss is : 0.053155.    Validation accuracy is : 69.54%\n",
      "Epoch 30, CIFAR-10 Batch 2:  Current loss is : 0.078650.    Validation accuracy is : 68.72%\n",
      "Epoch 30, CIFAR-10 Batch 3:  Current loss is : 0.055883.    Validation accuracy is : 69.22%\n",
      "Epoch 30, CIFAR-10 Batch 4:  Current loss is : 0.072172.    Validation accuracy is : 70.10%\n",
      "Epoch 30, CIFAR-10 Batch 5:  Current loss is : 0.064869.    Validation accuracy is : 68.56%\n",
      "Epoch 31, CIFAR-10 Batch 1:  Current loss is : 0.032785.    Validation accuracy is : 69.22%\n",
      "Epoch 31, CIFAR-10 Batch 2:  Current loss is : 0.051115.    Validation accuracy is : 68.96%\n",
      "Epoch 31, CIFAR-10 Batch 3:  Current loss is : 0.039948.    Validation accuracy is : 69.58%\n",
      "Epoch 31, CIFAR-10 Batch 4:  Current loss is : 0.038157.    Validation accuracy is : 69.56%\n",
      "Epoch 31, CIFAR-10 Batch 5:  Current loss is : 0.065398.    Validation accuracy is : 67.64%\n",
      "Epoch 32, CIFAR-10 Batch 1:  Current loss is : 0.044846.    Validation accuracy is : 69.56%\n",
      "Epoch 32, CIFAR-10 Batch 2:  Current loss is : 0.046318.    Validation accuracy is : 69.30%\n",
      "Epoch 32, CIFAR-10 Batch 3:  Current loss is : 0.035561.    Validation accuracy is : 69.40%\n",
      "Epoch 32, CIFAR-10 Batch 4:  Current loss is : 0.043047.    Validation accuracy is : 69.96%\n",
      "Epoch 32, CIFAR-10 Batch 5:  Current loss is : 0.072023.    Validation accuracy is : 68.84%\n",
      "Epoch 33, CIFAR-10 Batch 1:  Current loss is : 0.052143.    Validation accuracy is : 69.38%\n",
      "Epoch 33, CIFAR-10 Batch 2:  Current loss is : 0.044855.    Validation accuracy is : 68.96%\n",
      "Epoch 33, CIFAR-10 Batch 3:  Current loss is : 0.037899.    Validation accuracy is : 69.66%\n",
      "Epoch 33, CIFAR-10 Batch 4:  Current loss is : 0.064920.    Validation accuracy is : 70.16%\n",
      "Epoch 33, CIFAR-10 Batch 5:  Current loss is : 0.042712.    Validation accuracy is : 68.48%\n",
      "Epoch 34, CIFAR-10 Batch 1:  Current loss is : 0.043736.    Validation accuracy is : 68.46%\n",
      "Epoch 34, CIFAR-10 Batch 2:  Current loss is : 0.049735.    Validation accuracy is : 67.44%\n",
      "Epoch 34, CIFAR-10 Batch 3:  Current loss is : 0.029943.    Validation accuracy is : 68.70%\n",
      "Epoch 34, CIFAR-10 Batch 4:  Current loss is : 0.039113.    Validation accuracy is : 69.46%\n",
      "Epoch 34, CIFAR-10 Batch 5:  Current loss is : 0.051651.    Validation accuracy is : 68.06%\n",
      "Epoch 35, CIFAR-10 Batch 1:  Current loss is : 0.035058.    Validation accuracy is : 68.20%\n",
      "Epoch 35, CIFAR-10 Batch 2:  Current loss is : 0.062499.    Validation accuracy is : 68.02%\n",
      "Epoch 35, CIFAR-10 Batch 3:  Current loss is : 0.051910.    Validation accuracy is : 68.10%\n",
      "Epoch 35, CIFAR-10 Batch 4:  Current loss is : 0.028562.    Validation accuracy is : 69.94%\n",
      "Epoch 35, CIFAR-10 Batch 5:  Current loss is : 0.043303.    Validation accuracy is : 68.06%\n",
      "Epoch 36, CIFAR-10 Batch 1:  Current loss is : 0.024313.    Validation accuracy is : 69.76%\n",
      "Epoch 36, CIFAR-10 Batch 2:  Current loss is : 0.037616.    Validation accuracy is : 69.42%\n",
      "Epoch 36, CIFAR-10 Batch 3:  Current loss is : 0.029494.    Validation accuracy is : 69.46%\n",
      "Epoch 36, CIFAR-10 Batch 4:  Current loss is : 0.045353.    Validation accuracy is : 69.28%\n",
      "Epoch 36, CIFAR-10 Batch 5:  Current loss is : 0.047041.    Validation accuracy is : 68.34%\n",
      "Epoch 37, CIFAR-10 Batch 1:  Current loss is : 0.024705.    Validation accuracy is : 68.98%\n",
      "Epoch 37, CIFAR-10 Batch 2:  Current loss is : 0.033930.    Validation accuracy is : 68.72%\n",
      "Epoch 37, CIFAR-10 Batch 3:  Current loss is : 0.033450.    Validation accuracy is : 69.30%\n",
      "Epoch 37, CIFAR-10 Batch 4:  Current loss is : 0.034315.    Validation accuracy is : 68.94%\n",
      "Epoch 37, CIFAR-10 Batch 5:  Current loss is : 0.029048.    Validation accuracy is : 68.38%\n",
      "Epoch 38, CIFAR-10 Batch 1:  Current loss is : 0.031524.    Validation accuracy is : 68.42%\n",
      "Epoch 38, CIFAR-10 Batch 2:  Current loss is : 0.065210.    Validation accuracy is : 67.76%\n",
      "Epoch 38, CIFAR-10 Batch 3:  Current loss is : 0.022924.    Validation accuracy is : 68.86%\n",
      "Epoch 38, CIFAR-10 Batch 4:  Current loss is : 0.025840.    Validation accuracy is : 68.98%\n",
      "Epoch 38, CIFAR-10 Batch 5:  Current loss is : 0.016068.    Validation accuracy is : 68.78%\n",
      "Epoch 39, CIFAR-10 Batch 1:  Current loss is : 0.027192.    Validation accuracy is : 69.26%\n",
      "Epoch 39, CIFAR-10 Batch 2:  Current loss is : 0.044466.    Validation accuracy is : 69.02%\n",
      "Epoch 39, CIFAR-10 Batch 3:  Current loss is : 0.038880.    Validation accuracy is : 69.40%\n",
      "Epoch 39, CIFAR-10 Batch 4:  Current loss is : 0.021140.    Validation accuracy is : 70.08%\n",
      "Epoch 39, CIFAR-10 Batch 5:  Current loss is : 0.014211.    Validation accuracy is : 68.62%\n",
      "Epoch 40, CIFAR-10 Batch 1:  Current loss is : 0.031564.    Validation accuracy is : 68.88%\n",
      "Epoch 40, CIFAR-10 Batch 2:  Current loss is : 0.029198.    Validation accuracy is : 68.96%\n",
      "Epoch 40, CIFAR-10 Batch 3:  Current loss is : 0.037045.    Validation accuracy is : 68.20%\n",
      "Epoch 40, CIFAR-10 Batch 4:  Current loss is : 0.036828.    Validation accuracy is : 68.40%\n",
      "Epoch 40, CIFAR-10 Batch 5:  Current loss is : 0.016615.    Validation accuracy is : 68.34%\n",
      "Epoch 41, CIFAR-10 Batch 1:  Current loss is : 0.035803.    Validation accuracy is : 68.78%\n",
      "Epoch 41, CIFAR-10 Batch 2:  Current loss is : 0.038347.    Validation accuracy is : 68.10%\n",
      "Epoch 41, CIFAR-10 Batch 3:  Current loss is : 0.033851.    Validation accuracy is : 68.20%\n",
      "Epoch 41, CIFAR-10 Batch 4:  Current loss is : 0.034405.    Validation accuracy is : 68.66%\n",
      "Epoch 41, CIFAR-10 Batch 5:  Current loss is : 0.027451.    Validation accuracy is : 68.84%\n",
      "Epoch 42, CIFAR-10 Batch 1:  Current loss is : 0.029433.    Validation accuracy is : 69.60%\n",
      "Epoch 42, CIFAR-10 Batch 2:  Current loss is : 0.041758.    Validation accuracy is : 67.64%\n",
      "Epoch 42, CIFAR-10 Batch 3:  Current loss is : 0.025483.    Validation accuracy is : 68.46%\n",
      "Epoch 42, CIFAR-10 Batch 4:  Current loss is : 0.026169.    Validation accuracy is : 68.08%\n",
      "Epoch 42, CIFAR-10 Batch 5:  Current loss is : 0.020200.    Validation accuracy is : 69.18%\n",
      "Epoch 43, CIFAR-10 Batch 1:  Current loss is : 0.012399.    Validation accuracy is : 68.44%\n",
      "Epoch 43, CIFAR-10 Batch 2:  Current loss is : 0.015478.    Validation accuracy is : 67.42%\n",
      "Epoch 43, CIFAR-10 Batch 3:  Current loss is : 0.021329.    Validation accuracy is : 69.04%\n",
      "Epoch 43, CIFAR-10 Batch 4:  Current loss is : 0.030131.    Validation accuracy is : 68.52%\n",
      "Epoch 43, CIFAR-10 Batch 5:  Current loss is : 0.014266.    Validation accuracy is : 69.14%\n",
      "Epoch 44, CIFAR-10 Batch 1:  Current loss is : 0.016734.    Validation accuracy is : 69.30%\n",
      "Epoch 44, CIFAR-10 Batch 2:  Current loss is : 0.045317.    Validation accuracy is : 68.12%\n",
      "Epoch 44, CIFAR-10 Batch 3:  Current loss is : 0.014128.    Validation accuracy is : 68.96%\n",
      "Epoch 44, CIFAR-10 Batch 4:  Current loss is : 0.040579.    Validation accuracy is : 67.10%\n",
      "Epoch 44, CIFAR-10 Batch 5:  Current loss is : 0.035850.    Validation accuracy is : 67.98%\n",
      "Epoch 45, CIFAR-10 Batch 1:  Current loss is : 0.022748.    Validation accuracy is : 69.64%\n",
      "Epoch 45, CIFAR-10 Batch 2:  Current loss is : 0.020326.    Validation accuracy is : 67.40%\n",
      "Epoch 45, CIFAR-10 Batch 3:  Current loss is : 0.017015.    Validation accuracy is : 68.90%\n",
      "Epoch 45, CIFAR-10 Batch 4:  Current loss is : 0.030693.    Validation accuracy is : 67.80%\n",
      "Epoch 45, CIFAR-10 Batch 5:  Current loss is : 0.017610.    Validation accuracy is : 68.56%\n",
      "Epoch 46, CIFAR-10 Batch 1:  Current loss is : 0.011014.    Validation accuracy is : 68.84%\n",
      "Epoch 46, CIFAR-10 Batch 2:  Current loss is : 0.031575.    Validation accuracy is : 66.60%\n",
      "Epoch 46, CIFAR-10 Batch 3:  Current loss is : 0.013076.    Validation accuracy is : 68.20%\n",
      "Epoch 46, CIFAR-10 Batch 4:  Current loss is : 0.027565.    Validation accuracy is : 67.28%\n",
      "Epoch 46, CIFAR-10 Batch 5:  Current loss is : 0.012838.    Validation accuracy is : 69.12%\n",
      "Epoch 47, CIFAR-10 Batch 1:  Current loss is : 0.007643.    Validation accuracy is : 68.62%\n",
      "Epoch 47, CIFAR-10 Batch 2:  Current loss is : 0.018376.    Validation accuracy is : 67.78%\n",
      "Epoch 47, CIFAR-10 Batch 3:  Current loss is : 0.021056.    Validation accuracy is : 68.74%\n",
      "Epoch 47, CIFAR-10 Batch 4:  Current loss is : 0.029574.    Validation accuracy is : 68.54%\n",
      "Epoch 47, CIFAR-10 Batch 5:  Current loss is : 0.007337.    Validation accuracy is : 68.70%\n",
      "Epoch 48, CIFAR-10 Batch 1:  Current loss is : 0.028702.    Validation accuracy is : 67.96%\n",
      "Epoch 48, CIFAR-10 Batch 2:  Current loss is : 0.024302.    Validation accuracy is : 67.64%\n",
      "Epoch 48, CIFAR-10 Batch 3:  Current loss is : 0.031929.    Validation accuracy is : 68.38%\n",
      "Epoch 48, CIFAR-10 Batch 4:  Current loss is : 0.019541.    Validation accuracy is : 68.34%\n",
      "Epoch 48, CIFAR-10 Batch 5:  Current loss is : 0.008433.    Validation accuracy is : 68.82%\n",
      "Epoch 49, CIFAR-10 Batch 1:  Current loss is : 0.025441.    Validation accuracy is : 68.56%\n",
      "Epoch 49, CIFAR-10 Batch 2:  Current loss is : 0.015436.    Validation accuracy is : 66.98%\n",
      "Epoch 49, CIFAR-10 Batch 3:  Current loss is : 0.005976.    Validation accuracy is : 68.00%\n",
      "Epoch 49, CIFAR-10 Batch 4:  Current loss is : 0.026282.    Validation accuracy is : 68.40%\n",
      "Epoch 49, CIFAR-10 Batch 5:  Current loss is : 0.015033.    Validation accuracy is : 68.56%\n",
      "Epoch 50, CIFAR-10 Batch 1:  Current loss is : 0.023225.    Validation accuracy is : 67.58%\n",
      "Epoch 50, CIFAR-10 Batch 2:  Current loss is : 0.021596.    Validation accuracy is : 66.00%\n",
      "Epoch 50, CIFAR-10 Batch 3:  Current loss is : 0.008877.    Validation accuracy is : 68.00%\n",
      "Epoch 50, CIFAR-10 Batch 4:  Current loss is : 0.029139.    Validation accuracy is : 67.74%\n",
      "Epoch 50, CIFAR-10 Batch 5:  Current loss is : 0.010468.    Validation accuracy is : 69.72%\n"
     ]
    }
   ],
   "source": [
    "\"\"\"\n",
    "DON'T MODIFY ANYTHING IN THIS CELL\n",
    "\"\"\"\n",
    "save_model_path = './image_classification'\n",
    "\n",
    "print('Training...')\n",
    "with tf.Session() as sess:\n",
    "    # Initializing the variables\n",
    "    sess.run(tf.global_variables_initializer())\n",
    "    \n",
    "    # Training cycle\n",
    "    for epoch in range(epochs):\n",
    "        # Loop over all batches\n",
    "        n_batches = 5\n",
    "        for batch_i in range(1, n_batches + 1):\n",
    "            for batch_features, batch_labels in helper.load_preprocess_training_batch(batch_i, batch_size):\n",
    "                train_neural_network(sess, optimizer, keep_probability, batch_features, batch_labels)\n",
    "            print('Epoch {:>2}, CIFAR-10 Batch {}:  '.format(epoch + 1, batch_i), end='')\n",
    "            print_stats(sess, batch_features, batch_labels, cost, accuracy)\n",
    "            \n",
    "    # Save Model\n",
    "    saver = tf.train.Saver()\n",
    "    save_path = saver.save(sess, save_model_path)"
   ]
  },
  {
   "cell_type": "markdown",
   "metadata": {},
   "source": [
    "# Checkpoint\n",
    "The model has been saved to disk.\n",
    "## Test Model\n",
    "Test your model against the test dataset.  This will be your final accuracy. You should have an accuracy greater than 50%. If you don't, keep tweaking the model architecture and parameters."
   ]
  },
  {
   "cell_type": "code",
   "execution_count": 48,
   "metadata": {
    "collapsed": false
   },
   "outputs": [
    {
     "name": "stdout",
     "output_type": "stream",
     "text": [
      "Testing Accuracy: 0.682753164556962\n",
      "\n"
     ]
    },
    {
     "data": {
      "image/png": "[encoded data removed]",
      "text/plain": [
       "<matplotlib.figure.Figure at 0x11d0c93c8>"
      ]
     },
     "metadata": {
      "image/png": {
       "height": 319,
       "width": 355
      }
     },
     "output_type": "display_data"
    }
   ],
   "source": [
    "\"\"\"\n",
    "DON'T MODIFY ANYTHING IN THIS CELL\n",
    "\"\"\"\n",
    "%matplotlib inline\n",
    "%config InlineBackend.figure_format = 'retina'\n",
    "\n",
    "import tensorflow as tf\n",
    "import pickle\n",
    "import helper\n",
    "import random\n",
    "\n",
    "# Set batch size if not already set\n",
    "try:\n",
    "    if batch_size:\n",
    "        pass\n",
    "except NameError:\n",
    "    batch_size = 64\n",
    "\n",
    "save_model_path = './image_classification'\n",
    "n_samples = 4\n",
    "top_n_predictions = 3\n",
    "\n",
    "def test_model():\n",
    "    \"\"\"\n",
    "    Test the saved model against the test dataset\n",
    "    \"\"\"\n",
    "\n",
    "    test_features, test_labels = pickle.load(open('preprocess_training.p', mode='rb'))\n",
    "    loaded_graph = tf.Graph()\n",
    "\n",
    "    with tf.Session(graph=loaded_graph) as sess:\n",
    "        # Load model\n",
    "        loader = tf.train.import_meta_graph(save_model_path + '.meta')\n",
    "        loader.restore(sess, save_model_path)\n",
    "\n",
    "        # Get Tensors from loaded model\n",
    "        loaded_x = loaded_graph.get_tensor_by_name('x:0')\n",
    "        loaded_y = loaded_graph.get_tensor_by_name('y:0')\n",
    "        loaded_keep_prob = loaded_graph.get_tensor_by_name('keep_prob:0')\n",
    "        loaded_logits = loaded_graph.get_tensor_by_name('logits:0')\n",
    "        loaded_acc = loaded_graph.get_tensor_by_name('accuracy:0')\n",
    "        \n",
    "        # Get accuracy in batches for memory limitations\n",
    "        test_batch_acc_total = 0\n",
    "        test_batch_count = 0\n",
    "        \n",
    "        for train_feature_batch, train_label_batch in helper.batch_features_labels(test_features, test_labels, batch_size):\n",
    "            test_batch_acc_total += sess.run(\n",
    "                loaded_acc,\n",
    "                feed_dict={loaded_x: train_feature_batch, loaded_y: train_label_batch, loaded_keep_prob: 1.0})\n",
    "            test_batch_count += 1\n",
    "\n",
    "        print('Testing Accuracy: {}\\n'.format(test_batch_acc_total/test_batch_count))\n",
    "\n",
    "        # Print Random Samples\n",
    "        random_test_features, random_test_labels = tuple(zip(*random.sample(list(zip(test_features, test_labels)), n_samples)))\n",
    "        random_test_predictions = sess.run(\n",
    "            tf.nn.top_k(tf.nn.softmax(loaded_logits), top_n_predictions),\n",
    "            feed_dict={loaded_x: random_test_features, loaded_y: random_test_labels, loaded_keep_prob: 1.0})\n",
    "        helper.display_image_predictions(random_test_features, random_test_labels, random_test_predictions)\n",
    "\n",
    "\n",
    "test_model()"
   ]
  },
  {
   "cell_type": "markdown",
   "metadata": {},
   "source": [
    "## Why 50-80% Accuracy?\n",
    "You might be wondering why you can't get an accuracy any higher. First things first, 50% isn't bad for a simple CNN.  Pure guessing would get you 10% accuracy. However, you might notice people are getting scores [well above 80%](http://rodrigob.github.io/are_we_there_yet/build/classification_datasets_results.html#43494641522d3130).  That's because we haven't taught you all there is to know about neural networks. We still need to cover a few more techniques.\n",
    "## Submitting This Project\n",
    "When submitting this project, make sure to run all the cells before saving the notebook.  Save the notebook file as \"dlnd_image_classification.ipynb\" and save it as a HTML file under \"File\" -> \"Download as\".  Include the \"helper.py\" and \"problem_unittests.py\" files in your submission."
   ]
  }
 ],
 "metadata": {
  "kernelspec": {
   "display_name": "Python 3",
   "language": "python",
   "name": "python3"
  },
  "language_info": {
   "codemirror_mode": {
    "name": "ipython",
    "version": 3
   },
   "file_extension": ".py",
   "mimetype": "text/x-python",
   "name": "python",
   "nbconvert_exporter": "python",
   "pygments_lexer": "ipython3",
   "version": "3.5.3"
  }
 },
 "nbformat": 4,
 "nbformat_minor": 0
}
